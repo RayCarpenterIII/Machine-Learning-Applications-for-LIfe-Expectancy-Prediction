{
 "cells": [
  {
   "cell_type": "markdown",
   "id": "d66986a7-ccfd-4276-b9bb-121925edd7c6",
   "metadata": {},
   "source": [
    "# Cross-Validatded Elastic-Net\n",
    "The purpose of this script is to use an elsatic-net model with cross-validated test error, alpha values, and lambda values. This will be used to predict life expectancy using a cut of the HRS data set."
   ]
  },
  {
   "cell_type": "code",
   "execution_count": 18,
   "id": "c8c8cb34-60ed-4d9f-a1bc-0f0dcf9df8cb",
   "metadata": {},
   "outputs": [
    {
     "data": {
      "text/html": [
       "<ol class=list-inline>\n",
       "\t<li>13132</li>\n",
       "\t<li>54</li>\n",
       "</ol>\n"
      ],
      "text/latex": [
       "\\begin{enumerate*}\n",
       "\\item 13132\n",
       "\\item 54\n",
       "\\end{enumerate*}\n"
      ],
      "text/markdown": [
       "1. 13132\n",
       "2. 54\n",
       "\n",
       "\n"
      ],
      "text/plain": [
       "[1] 13132    54"
      ]
     },
     "metadata": {},
     "output_type": "display_data"
    },
    {
     "data": {
      "text/html": [
       "<table>\n",
       "<thead><tr><th scope=col>hhidpn</th><th scope=col>wave</th><th scope=col>mstat</th><th scope=col>cendiv</th><th scope=col>gender</th><th scope=col>rahispan</th><th scope=col>raracem</th><th scope=col>iwbeg</th><th scope=col>dage_m</th><th scope=col>dage_y</th><th scope=col>raedyrs</th><th scope=col>rarelig</th><th scope=col>ravetrn</th><th scope=col>agey_m</th><th scope=col>shlt</th><th scope=col>shltc</th><th scope=col>depres</th><th scope=col>effort</th><th scope=col>sleepr</th><th scope=col>cesd</th><th scope=col>bmi</th><th scope=col>smokev</th><th scope=col>smoken</th><th scope=col>drinkn</th><th scope=col>hibp</th><th scope=col>diab</th><th scope=col>cancr</th><th scope=col>lung</th><th scope=col>heart</th><th scope=col>strok</th><th scope=col>psych</th><th scope=col>arthr</th><th scope=col>conde</th><th scope=col>cogtot</th><th scope=col>slfmem</th><th scope=col>pstmem</th><th scope=col>spcfac</th><th scope=col>hsptim</th><th scope=col>puff</th><th scope=col>puffpos</th><th scope=col>timwlk</th><th scope=col>hatotb</th><th scope=col>iearn</th><th scope=col>isret</th><th scope=col>covs</th><th scope=col>hiltc</th><th scope=col>lbrf</th><th scope=col>logiearn</th><th scope=col>logisret</th><th scope=col>loghspti</th><th scope=col>loghatotb</th><th scope=col>id</th><th scope=col>nt</th><th scope=col>n2</th></tr></thead>\n",
       "<tbody>\n",
       "\t<tr><td>3010                              </td><td> 3                                </td><td>1.married                         </td><td>9.pacific                         </td><td>1.male                            </td><td>0.not hispanic                    </td><td>1.white/caucasian                 </td><td>13345                             </td><td>931                               </td><td>77                                </td><td>12                                </td><td>1.protestant                      </td><td>0.no                              </td><td>60                                </td><td>3.good                            </td><td>-1                                </td><td>1.yes                             </td><td>1.yes                             </td><td>1.yes                             </td><td>3                                 </td><td>28.0                              </td><td>0.no                              </td><td>0.no                              </td><td>1                                 </td><td>0.no                              </td><td>0.no                              </td><td>0.no                              </td><td>0.no                              </td><td>1.yes                             </td><td>0.no                              </td><td>0.no                              </td><td>0.no                              </td><td>1                                 </td><td>35                                </td><td>4.fair                            </td><td>2.same                            </td><td>0.no                              </td><td>0                                 </td><td>                                  </td><td>                                  </td><td>                                  </td><td> 490500                           </td><td> 4000                             </td><td>    0                             </td><td>1.yes                             </td><td>1.yes                             </td><td>4.partly retired                  </td><td>8.294050                          </td><td>0.000000                          </td><td>0                                 </td><td>13.10318                          </td><td>2                                 </td><td>123702                            </td><td>7                                 </td></tr>\n",
       "\t<tr><td>3010                              </td><td> 6                                </td><td>1.married                         </td><td>9.pacific                         </td><td>1.male                            </td><td>0.not hispanic                    </td><td>1.white/caucasian                 </td><td>15445                             </td><td>931                               </td><td>77                                </td><td>12                                </td><td>1.protestant                      </td><td>0.no                              </td><td>66                                </td><td>3.good                            </td><td>-1                                </td><td>0.no                              </td><td>0.no                              </td><td>0.no                              </td><td>1                                 </td><td>28.3                              </td><td>0.no                              </td><td>0.no                              </td><td>0                                 </td><td>0.no                              </td><td>0.no                              </td><td>0.no                              </td><td>0.no                              </td><td>1.yes                             </td><td>0.no                              </td><td>0.no                              </td><td>0.no                              </td><td>1                                 </td><td>31                                </td><td>3.good                            </td><td>2.same                            </td><td>0.no                              </td><td>0                                 </td><td>                                  </td><td>                                  </td><td>                                  </td><td> 704000                           </td><td>10000                             </td><td>13728                             </td><td>0.no                              </td><td>1.yes                             </td><td>4.partly retired                  </td><td>9.210340                          </td><td>9.527193                          </td><td>0                                 </td><td>13.46453                          </td><td>3                                 </td><td>123702                            </td><td>7                                 </td></tr>\n",
       "\t<tr><td>3010                              </td><td> 7                                </td><td>1.married                         </td><td>9.pacific                         </td><td>1.male                            </td><td>0.not hispanic                    </td><td>1.white/caucasian                 </td><td>16267                             </td><td>931                               </td><td>77                                </td><td>12                                </td><td>1.protestant                      </td><td>0.no                              </td><td>68                                </td><td>3.good                            </td><td>0                                 </td><td>0.no                              </td><td>0.no                              </td><td>0.no                              </td><td>0                                 </td><td>26.6                              </td><td>0.no                              </td><td>0.no                              </td><td>0                                 </td><td>0.no                              </td><td>0.no                              </td><td>0.no                              </td><td>0.no                              </td><td>1.yes                             </td><td>0.no                              </td><td>0.no                              </td><td>0.no                              </td><td>1                                 </td><td>18                                </td><td>3.good                            </td><td>2.same                            </td><td>0.no                              </td><td>0                                 </td><td>                                  </td><td>                                  </td><td>                                  </td><td> 756000                           </td><td> 6000                             </td><td>15600                             </td><td>0.no                              </td><td>1.yes                             </td><td>4.partly retired                  </td><td>8.699515                          </td><td>9.655026                          </td><td>0                                 </td><td>13.53580                          </td><td>4                                 </td><td>123702                            </td><td>7                                 </td></tr>\n",
       "\t<tr><td>3010                              </td><td> 8                                </td><td>1.married                         </td><td>9.pacific                         </td><td>1.male                            </td><td>0.not hispanic                    </td><td>1.white/caucasian                 </td><td>16875                             </td><td>931                               </td><td>77                                </td><td>12                                </td><td>1.protestant                      </td><td>0.no                              </td><td>70                                </td><td>3.good                            </td><td>0                                 </td><td>0.no                              </td><td>0.no                              </td><td>0.no                              </td><td>0                                 </td><td>27.1                              </td><td>0.no                              </td><td>0.no                              </td><td>0                                 </td><td>0.no                              </td><td>0.no                              </td><td>0.no                              </td><td>0.no                              </td><td>1.yes                             </td><td>0.no                              </td><td>0.no                              </td><td>0.no                              </td><td>1                                 </td><td>20                                </td><td>4.fair                            </td><td>2.same                            </td><td>0.no                              </td><td>0                                 </td><td>490                               </td><td>1.standing                        </td><td>2.78                              </td><td> 914000                           </td><td>    0                             </td><td>14040                             </td><td>0.no                              </td><td>1.yes                             </td><td>5.retired                         </td><td>0.000000                          </td><td>9.549666                          </td><td>0                                 </td><td>13.72559                          </td><td>5                                 </td><td>123702                            </td><td>7                                 </td></tr>\n",
       "\t<tr><td>3010                              </td><td> 9                                </td><td>1.married                         </td><td>9.pacific                         </td><td>1.male                            </td><td>0.not hispanic                    </td><td>1.white/caucasian                 </td><td>17577                             </td><td>931                               </td><td>77                                </td><td>12                                </td><td>1.protestant                      </td><td>0.no                              </td><td>72                                </td><td>3.good                            </td><td>0                                 </td><td>0.no                              </td><td>0.no                              </td><td>0.no                              </td><td>0                                 </td><td>24.7                              </td><td>0.no                              </td><td>0.no                              </td><td>1                                 </td><td>0.no                              </td><td>0.no                              </td><td>0.no                              </td><td>0.no                              </td><td>1.yes                             </td><td>0.no                              </td><td>0.no                              </td><td>0.no                              </td><td>1                                 </td><td>26                                </td><td>3.good                            </td><td>2.same                            </td><td>0.no                              </td><td>1                                 </td><td>.a                                </td><td>.a=r not asked phys meas this wave</td><td>.a                                </td><td>1156000                           </td><td>    0                             </td><td>15600                             </td><td>0.no                              </td><td>1.yes                             </td><td>5.retired                         </td><td>0.000000                          </td><td>9.655026                          </td><td>0                                 </td><td>13.96048                          </td><td>6                                 </td><td>123702                            </td><td>7                                 </td></tr>\n",
       "\t<tr><td>3010                              </td><td>10                                </td><td>1.married                         </td><td>9.pacific                         </td><td>1.male                            </td><td>0.not hispanic                    </td><td>1.white/caucasian                 </td><td>18520                             </td><td>931                               </td><td>77                                </td><td>12                                </td><td>1.protestant                      </td><td>0.no                              </td><td>74                                </td><td>3.good                            </td><td>0                                 </td><td>0.no                              </td><td>0.no                              </td><td>0.no                              </td><td>0                                 </td><td>24.0                              </td><td>0.no                              </td><td>0.no                              </td><td>0                                 </td><td>0.no                              </td><td>0.no                              </td><td>0.no                              </td><td>0.no                              </td><td>1.yes                             </td><td>0.no                              </td><td>0.no                              </td><td>0.no                              </td><td>1                                 </td><td>17                                </td><td>4.fair                            </td><td>3.worse                           </td><td>0.no                              </td><td>0                                 </td><td>330                               </td><td>1.standing                        </td><td>3.0999999                         </td><td>1240000                           </td><td>    0                             </td><td>16644                             </td><td>0.no                              </td><td>1.yes                             </td><td>5.retired                         </td><td>0.000000                          </td><td>9.719805                          </td><td>0                                 </td><td>14.03062                          </td><td>7                                 </td><td>123702                            </td><td>7                                 </td></tr>\n",
       "</tbody>\n",
       "</table>\n"
      ],
      "text/latex": [
       "\\begin{tabular}{r|llllllllllllllllllllllllllllllllllllllllllllllllllllll}\n",
       " hhidpn & wave & mstat & cendiv & gender & rahispan & raracem & iwbeg & dage\\_m & dage\\_y & raedyrs & rarelig & ravetrn & agey\\_m & shlt & shltc & depres & effort & sleepr & cesd & bmi & smokev & smoken & drinkn & hibp & diab & cancr & lung & heart & strok & psych & arthr & conde & cogtot & slfmem & pstmem & spcfac & hsptim & puff & puffpos & timwlk & hatotb & iearn & isret & covs & hiltc & lbrf & logiearn & logisret & loghspti & loghatotb & id & nt & n2\\\\\n",
       "\\hline\n",
       "\t 3010                               &  3                                 & 1.married                          & 9.pacific                          & 1.male                             & 0.not hispanic                     & 1.white/caucasian                  & 13345                              & 931                                & 77                                 & 12                                 & 1.protestant                       & 0.no                               & 60                                 & 3.good                             & -1                                 & 1.yes                              & 1.yes                              & 1.yes                              & 3                                  & 28.0                               & 0.no                               & 0.no                               & 1                                  & 0.no                               & 0.no                               & 0.no                               & 0.no                               & 1.yes                              & 0.no                               & 0.no                               & 0.no                               & 1                                  & 35                                 & 4.fair                             & 2.same                             & 0.no                               & 0                                  &                                    &                                    &                                    &  490500                            &  4000                              &     0                              & 1.yes                              & 1.yes                              & 4.partly retired                   & 8.294050                           & 0.000000                           & 0                                  & 13.10318                           & 2                                  & 123702                             & 7                                 \\\\\n",
       "\t 3010                               &  6                                 & 1.married                          & 9.pacific                          & 1.male                             & 0.not hispanic                     & 1.white/caucasian                  & 15445                              & 931                                & 77                                 & 12                                 & 1.protestant                       & 0.no                               & 66                                 & 3.good                             & -1                                 & 0.no                               & 0.no                               & 0.no                               & 1                                  & 28.3                               & 0.no                               & 0.no                               & 0                                  & 0.no                               & 0.no                               & 0.no                               & 0.no                               & 1.yes                              & 0.no                               & 0.no                               & 0.no                               & 1                                  & 31                                 & 3.good                             & 2.same                             & 0.no                               & 0                                  &                                    &                                    &                                    &  704000                            & 10000                              & 13728                              & 0.no                               & 1.yes                              & 4.partly retired                   & 9.210340                           & 9.527193                           & 0                                  & 13.46453                           & 3                                  & 123702                             & 7                                 \\\\\n",
       "\t 3010                               &  7                                 & 1.married                          & 9.pacific                          & 1.male                             & 0.not hispanic                     & 1.white/caucasian                  & 16267                              & 931                                & 77                                 & 12                                 & 1.protestant                       & 0.no                               & 68                                 & 3.good                             & 0                                  & 0.no                               & 0.no                               & 0.no                               & 0                                  & 26.6                               & 0.no                               & 0.no                               & 0                                  & 0.no                               & 0.no                               & 0.no                               & 0.no                               & 1.yes                              & 0.no                               & 0.no                               & 0.no                               & 1                                  & 18                                 & 3.good                             & 2.same                             & 0.no                               & 0                                  &                                    &                                    &                                    &  756000                            &  6000                              & 15600                              & 0.no                               & 1.yes                              & 4.partly retired                   & 8.699515                           & 9.655026                           & 0                                  & 13.53580                           & 4                                  & 123702                             & 7                                 \\\\\n",
       "\t 3010                               &  8                                 & 1.married                          & 9.pacific                          & 1.male                             & 0.not hispanic                     & 1.white/caucasian                  & 16875                              & 931                                & 77                                 & 12                                 & 1.protestant                       & 0.no                               & 70                                 & 3.good                             & 0                                  & 0.no                               & 0.no                               & 0.no                               & 0                                  & 27.1                               & 0.no                               & 0.no                               & 0                                  & 0.no                               & 0.no                               & 0.no                               & 0.no                               & 1.yes                              & 0.no                               & 0.no                               & 0.no                               & 1                                  & 20                                 & 4.fair                             & 2.same                             & 0.no                               & 0                                  & 490                                & 1.standing                         & 2.78                               &  914000                            &     0                              & 14040                              & 0.no                               & 1.yes                              & 5.retired                          & 0.000000                           & 9.549666                           & 0                                  & 13.72559                           & 5                                  & 123702                             & 7                                 \\\\\n",
       "\t 3010                               &  9                                 & 1.married                          & 9.pacific                          & 1.male                             & 0.not hispanic                     & 1.white/caucasian                  & 17577                              & 931                                & 77                                 & 12                                 & 1.protestant                       & 0.no                               & 72                                 & 3.good                             & 0                                  & 0.no                               & 0.no                               & 0.no                               & 0                                  & 24.7                               & 0.no                               & 0.no                               & 1                                  & 0.no                               & 0.no                               & 0.no                               & 0.no                               & 1.yes                              & 0.no                               & 0.no                               & 0.no                               & 1                                  & 26                                 & 3.good                             & 2.same                             & 0.no                               & 1                                  & .a                                 & .a=r not asked phys meas this wave & .a                                 & 1156000                            &     0                              & 15600                              & 0.no                               & 1.yes                              & 5.retired                          & 0.000000                           & 9.655026                           & 0                                  & 13.96048                           & 6                                  & 123702                             & 7                                 \\\\\n",
       "\t 3010                               & 10                                 & 1.married                          & 9.pacific                          & 1.male                             & 0.not hispanic                     & 1.white/caucasian                  & 18520                              & 931                                & 77                                 & 12                                 & 1.protestant                       & 0.no                               & 74                                 & 3.good                             & 0                                  & 0.no                               & 0.no                               & 0.no                               & 0                                  & 24.0                               & 0.no                               & 0.no                               & 0                                  & 0.no                               & 0.no                               & 0.no                               & 0.no                               & 1.yes                              & 0.no                               & 0.no                               & 0.no                               & 1                                  & 17                                 & 4.fair                             & 3.worse                            & 0.no                               & 0                                  & 330                                & 1.standing                         & 3.0999999                          & 1240000                            &     0                              & 16644                              & 0.no                               & 1.yes                              & 5.retired                          & 0.000000                           & 9.719805                           & 0                                  & 14.03062                           & 7                                  & 123702                             & 7                                 \\\\\n",
       "\\end{tabular}\n"
      ],
      "text/markdown": [
       "\n",
       "| hhidpn | wave | mstat | cendiv | gender | rahispan | raracem | iwbeg | dage_m | dage_y | raedyrs | rarelig | ravetrn | agey_m | shlt | shltc | depres | effort | sleepr | cesd | bmi | smokev | smoken | drinkn | hibp | diab | cancr | lung | heart | strok | psych | arthr | conde | cogtot | slfmem | pstmem | spcfac | hsptim | puff | puffpos | timwlk | hatotb | iearn | isret | covs | hiltc | lbrf | logiearn | logisret | loghspti | loghatotb | id | nt | n2 |\n",
       "|---|---|---|---|---|---|---|---|---|---|---|---|---|---|---|---|---|---|---|---|---|---|---|---|---|---|---|---|---|---|---|---|---|---|---|---|---|---|---|---|---|---|---|---|---|---|---|---|---|---|---|---|---|---|\n",
       "| 3010                               |  3                                 | 1.married                          | 9.pacific                          | 1.male                             | 0.not hispanic                     | 1.white/caucasian                  | 13345                              | 931                                | 77                                 | 12                                 | 1.protestant                       | 0.no                               | 60                                 | 3.good                             | -1                                 | 1.yes                              | 1.yes                              | 1.yes                              | 3                                  | 28.0                               | 0.no                               | 0.no                               | 1                                  | 0.no                               | 0.no                               | 0.no                               | 0.no                               | 1.yes                              | 0.no                               | 0.no                               | 0.no                               | 1                                  | 35                                 | 4.fair                             | 2.same                             | 0.no                               | 0                                  |                                    |                                    |                                    |  490500                            |  4000                              |     0                              | 1.yes                              | 1.yes                              | 4.partly retired                   | 8.294050                           | 0.000000                           | 0                                  | 13.10318                           | 2                                  | 123702                             | 7                                  |\n",
       "| 3010                               |  6                                 | 1.married                          | 9.pacific                          | 1.male                             | 0.not hispanic                     | 1.white/caucasian                  | 15445                              | 931                                | 77                                 | 12                                 | 1.protestant                       | 0.no                               | 66                                 | 3.good                             | -1                                 | 0.no                               | 0.no                               | 0.no                               | 1                                  | 28.3                               | 0.no                               | 0.no                               | 0                                  | 0.no                               | 0.no                               | 0.no                               | 0.no                               | 1.yes                              | 0.no                               | 0.no                               | 0.no                               | 1                                  | 31                                 | 3.good                             | 2.same                             | 0.no                               | 0                                  |                                    |                                    |                                    |  704000                            | 10000                              | 13728                              | 0.no                               | 1.yes                              | 4.partly retired                   | 9.210340                           | 9.527193                           | 0                                  | 13.46453                           | 3                                  | 123702                             | 7                                  |\n",
       "| 3010                               |  7                                 | 1.married                          | 9.pacific                          | 1.male                             | 0.not hispanic                     | 1.white/caucasian                  | 16267                              | 931                                | 77                                 | 12                                 | 1.protestant                       | 0.no                               | 68                                 | 3.good                             | 0                                  | 0.no                               | 0.no                               | 0.no                               | 0                                  | 26.6                               | 0.no                               | 0.no                               | 0                                  | 0.no                               | 0.no                               | 0.no                               | 0.no                               | 1.yes                              | 0.no                               | 0.no                               | 0.no                               | 1                                  | 18                                 | 3.good                             | 2.same                             | 0.no                               | 0                                  |                                    |                                    |                                    |  756000                            |  6000                              | 15600                              | 0.no                               | 1.yes                              | 4.partly retired                   | 8.699515                           | 9.655026                           | 0                                  | 13.53580                           | 4                                  | 123702                             | 7                                  |\n",
       "| 3010                               |  8                                 | 1.married                          | 9.pacific                          | 1.male                             | 0.not hispanic                     | 1.white/caucasian                  | 16875                              | 931                                | 77                                 | 12                                 | 1.protestant                       | 0.no                               | 70                                 | 3.good                             | 0                                  | 0.no                               | 0.no                               | 0.no                               | 0                                  | 27.1                               | 0.no                               | 0.no                               | 0                                  | 0.no                               | 0.no                               | 0.no                               | 0.no                               | 1.yes                              | 0.no                               | 0.no                               | 0.no                               | 1                                  | 20                                 | 4.fair                             | 2.same                             | 0.no                               | 0                                  | 490                                | 1.standing                         | 2.78                               |  914000                            |     0                              | 14040                              | 0.no                               | 1.yes                              | 5.retired                          | 0.000000                           | 9.549666                           | 0                                  | 13.72559                           | 5                                  | 123702                             | 7                                  |\n",
       "| 3010                               |  9                                 | 1.married                          | 9.pacific                          | 1.male                             | 0.not hispanic                     | 1.white/caucasian                  | 17577                              | 931                                | 77                                 | 12                                 | 1.protestant                       | 0.no                               | 72                                 | 3.good                             | 0                                  | 0.no                               | 0.no                               | 0.no                               | 0                                  | 24.7                               | 0.no                               | 0.no                               | 1                                  | 0.no                               | 0.no                               | 0.no                               | 0.no                               | 1.yes                              | 0.no                               | 0.no                               | 0.no                               | 1                                  | 26                                 | 3.good                             | 2.same                             | 0.no                               | 1                                  | .a                                 | .a=r not asked phys meas this wave | .a                                 | 1156000                            |     0                              | 15600                              | 0.no                               | 1.yes                              | 5.retired                          | 0.000000                           | 9.655026                           | 0                                  | 13.96048                           | 6                                  | 123702                             | 7                                  |\n",
       "| 3010                               | 10                                 | 1.married                          | 9.pacific                          | 1.male                             | 0.not hispanic                     | 1.white/caucasian                  | 18520                              | 931                                | 77                                 | 12                                 | 1.protestant                       | 0.no                               | 74                                 | 3.good                             | 0                                  | 0.no                               | 0.no                               | 0.no                               | 0                                  | 24.0                               | 0.no                               | 0.no                               | 0                                  | 0.no                               | 0.no                               | 0.no                               | 0.no                               | 1.yes                              | 0.no                               | 0.no                               | 0.no                               | 1                                  | 17                                 | 4.fair                             | 3.worse                            | 0.no                               | 0                                  | 330                                | 1.standing                         | 3.0999999                          | 1240000                            |     0                              | 16644                              | 0.no                               | 1.yes                              | 5.retired                          | 0.000000                           | 9.719805                           | 0                                  | 14.03062                           | 7                                  | 123702                             | 7                                  |\n",
       "\n"
      ],
      "text/plain": [
       "  hhidpn wave mstat     cendiv    gender rahispan       raracem           iwbeg\n",
       "1 3010    3   1.married 9.pacific 1.male 0.not hispanic 1.white/caucasian 13345\n",
       "2 3010    6   1.married 9.pacific 1.male 0.not hispanic 1.white/caucasian 15445\n",
       "3 3010    7   1.married 9.pacific 1.male 0.not hispanic 1.white/caucasian 16267\n",
       "4 3010    8   1.married 9.pacific 1.male 0.not hispanic 1.white/caucasian 16875\n",
       "5 3010    9   1.married 9.pacific 1.male 0.not hispanic 1.white/caucasian 17577\n",
       "6 3010   10   1.married 9.pacific 1.male 0.not hispanic 1.white/caucasian 18520\n",
       "  dage_m dage_y raedyrs rarelig      ravetrn agey_m shlt   shltc depres effort\n",
       "1 931    77     12      1.protestant 0.no    60     3.good -1    1.yes  1.yes \n",
       "2 931    77     12      1.protestant 0.no    66     3.good -1    0.no   0.no  \n",
       "3 931    77     12      1.protestant 0.no    68     3.good 0     0.no   0.no  \n",
       "4 931    77     12      1.protestant 0.no    70     3.good 0     0.no   0.no  \n",
       "5 931    77     12      1.protestant 0.no    72     3.good 0     0.no   0.no  \n",
       "6 931    77     12      1.protestant 0.no    74     3.good 0     0.no   0.no  \n",
       "  sleepr cesd bmi  smokev smoken drinkn hibp diab cancr lung heart strok psych\n",
       "1 1.yes  3    28.0 0.no   0.no   1      0.no 0.no 0.no  0.no 1.yes 0.no  0.no \n",
       "2 0.no   1    28.3 0.no   0.no   0      0.no 0.no 0.no  0.no 1.yes 0.no  0.no \n",
       "3 0.no   0    26.6 0.no   0.no   0      0.no 0.no 0.no  0.no 1.yes 0.no  0.no \n",
       "4 0.no   0    27.1 0.no   0.no   0      0.no 0.no 0.no  0.no 1.yes 0.no  0.no \n",
       "5 0.no   0    24.7 0.no   0.no   1      0.no 0.no 0.no  0.no 1.yes 0.no  0.no \n",
       "6 0.no   0    24.0 0.no   0.no   0      0.no 0.no 0.no  0.no 1.yes 0.no  0.no \n",
       "  arthr conde cogtot slfmem pstmem  spcfac hsptim puff\n",
       "1 0.no  1     35     4.fair 2.same  0.no   0          \n",
       "2 0.no  1     31     3.good 2.same  0.no   0          \n",
       "3 0.no  1     18     3.good 2.same  0.no   0          \n",
       "4 0.no  1     20     4.fair 2.same  0.no   0      490 \n",
       "5 0.no  1     26     3.good 2.same  0.no   1      .a  \n",
       "6 0.no  1     17     4.fair 3.worse 0.no   0      330 \n",
       "  puffpos                            timwlk    hatotb  iearn isret covs  hiltc\n",
       "1                                               490500  4000     0 1.yes 1.yes\n",
       "2                                               704000 10000 13728 0.no  1.yes\n",
       "3                                               756000  6000 15600 0.no  1.yes\n",
       "4 1.standing                         2.78       914000     0 14040 0.no  1.yes\n",
       "5 .a=r not asked phys meas this wave .a        1156000     0 15600 0.no  1.yes\n",
       "6 1.standing                         3.0999999 1240000     0 16644 0.no  1.yes\n",
       "  lbrf             logiearn logisret loghspti loghatotb id nt     n2\n",
       "1 4.partly retired 8.294050 0.000000 0        13.10318  2  123702 7 \n",
       "2 4.partly retired 9.210340 9.527193 0        13.46453  3  123702 7 \n",
       "3 4.partly retired 8.699515 9.655026 0        13.53580  4  123702 7 \n",
       "4 5.retired        0.000000 9.549666 0        13.72559  5  123702 7 \n",
       "5 5.retired        0.000000 9.655026 0        13.96048  6  123702 7 \n",
       "6 5.retired        0.000000 9.719805 0        14.03062  7  123702 7 "
      ]
     },
     "metadata": {},
     "output_type": "display_data"
    }
   ],
   "source": [
    "# Show all columns.\n",
    "options(repr.matrix.max.cols=150, repr.matrix.max.rows=200)\n",
    "\n",
    "df = read.csv('le_svm.csv')\n",
    "dim(df)\n",
    "head(df)"
   ]
  },
  {
   "cell_type": "markdown",
   "id": "874e4cfb-8089-450e-9101-b5d09edc8fab",
   "metadata": {
    "tags": []
   },
   "source": [
    "### Create test and training sets."
   ]
  },
  {
   "cell_type": "code",
   "execution_count": 5,
   "id": "b424b7a0-2807-4cfd-926a-80030fa02a8b",
   "metadata": {
    "tags": []
   },
   "outputs": [
    {
     "data": {
      "text/html": [
       "<ol class=list-inline>\n",
       "\t<li>13132</li>\n",
       "\t<li>54</li>\n",
       "</ol>\n"
      ],
      "text/latex": [
       "\\begin{enumerate*}\n",
       "\\item 13132\n",
       "\\item 54\n",
       "\\end{enumerate*}\n"
      ],
      "text/markdown": [
       "1. 13132\n",
       "2. 54\n",
       "\n",
       "\n"
      ],
      "text/plain": [
       "[1] 13132    54"
      ]
     },
     "metadata": {},
     "output_type": "display_data"
    }
   ],
   "source": [
    "# Specify data as numeric or factor\n",
    "# Doesn't like dents\n",
    "df = na.omit(df)\n",
    "names_factor = c('gender', 'raracem', 'rahispan', 'mstat', 'shlt', \n",
    "                 'depres', 'cendiv' , 'effort', \n",
    "                 'sleepr', 'arthr','heart', 'strok', 'psych', 'cancr', 'wave',\n",
    "                  'slfmem', 'covs',\n",
    "                  'lbrf', 'smokev',  'hiltc',\n",
    "                  'spcfac', 'rarelig','ravetrn')\n",
    "df[,names_factor] = lapply(df[,names_factor], factor)\n",
    "names_numeric = c('iearn', 'logiearn', 'bmi', 'cogtot','drinkn',\n",
    "                   'dage_y','conde', 'raedyrs',\n",
    "                  'logisret', 'loghatotb','loghspti')\n",
    "df[,names_numeric] = lapply(df[,names_numeric], as.numeric)\n",
    "dim(df)"
   ]
  },
  {
   "cell_type": "code",
   "execution_count": 6,
   "id": "b9442a1b-bba2-4c87-99c6-a17ac373623e",
   "metadata": {},
   "outputs": [],
   "source": [
    "#This is the weak model.\n",
    "#Create tests and training sets.\n",
    "n = dim(df)[1]\n",
    "training_ratio = .8\n",
    "train_size = sort(sample(1:n, training_ratio*n))\n",
    "train = na.omit(df[train_size,])\n",
    "test = na.omit(df[-train_size,])\n",
    "# We can also test for death age at month. \n",
    "# Interact puff*puffpos, shlt*shltc\n",
    "train_mat = model.matrix(dage_y ~ cogtot+ gender + raracem + rahispan + agey_m +logiearn +\n",
    "                         shlt + shltc +raedyrs +mstat +\n",
    "                        bmi +smoken + hibp + drinkn + pstmem + \n",
    "                         + depres + cendiv + effort + bmi*bmi\n",
    "                        +  sleepr + bmi + smoken + drinkn + arthr + heart + strok + psych + cancr\n",
    "                         + diab  + lung + slfmem + pstmem  + covs\n",
    "                          + lbrf + raedyrs + smokev + hibp + conde \n",
    "                          + hiltc  + spcfac + loghspti + rarelig + ravetrn  \n",
    "                          + loghatotb + loghspti , train)\n",
    "test_mat = model.matrix(dage_y ~ cogtot+ gender + raracem + rahispan + agey_m +logiearn +\n",
    "                         shlt + shltc +raedyrs +mstat +\n",
    "                        bmi +smoken + hibp + drinkn + pstmem + \n",
    "                         + depres + cendiv + effort + bmi*bmi\n",
    "                        +  sleepr + bmi + smoken + drinkn + arthr + heart + strok + psych + cancr\n",
    "                         + diab  + lung + slfmem + pstmem  + covs\n",
    "                          + lbrf + raedyrs + smokev + hibp + conde \n",
    "                          + hiltc  + spcfac + loghspti + rarelig + ravetrn  \n",
    "                          + loghatotb + loghspti , test)"
   ]
  },
  {
   "cell_type": "code",
   "execution_count": 7,
   "id": "c0691b68-1f32-42b1-8ff3-595ffa5afdd8",
   "metadata": {},
   "outputs": [
    {
     "data": {
      "text/html": [
       "<ol class=list-inline>\n",
       "\t<li>10505</li>\n",
       "\t<li>94</li>\n",
       "</ol>\n"
      ],
      "text/latex": [
       "\\begin{enumerate*}\n",
       "\\item 10505\n",
       "\\item 94\n",
       "\\end{enumerate*}\n"
      ],
      "text/markdown": [
       "1. 10505\n",
       "2. 94\n",
       "\n",
       "\n"
      ],
      "text/plain": [
       "[1] 10505    94"
      ]
     },
     "metadata": {},
     "output_type": "display_data"
    },
    {
     "data": {
      "text/html": [
       "<ol class=list-inline>\n",
       "\t<li>2627</li>\n",
       "\t<li>94</li>\n",
       "</ol>\n"
      ],
      "text/latex": [
       "\\begin{enumerate*}\n",
       "\\item 2627\n",
       "\\item 94\n",
       "\\end{enumerate*}\n"
      ],
      "text/markdown": [
       "1. 2627\n",
       "2. 94\n",
       "\n",
       "\n"
      ],
      "text/plain": [
       "[1] 2627   94"
      ]
     },
     "metadata": {},
     "output_type": "display_data"
    },
    {
     "data": {
      "text/html": [
       "<ol class=list-inline>\n",
       "\t<li>10505</li>\n",
       "\t<li>54</li>\n",
       "</ol>\n"
      ],
      "text/latex": [
       "\\begin{enumerate*}\n",
       "\\item 10505\n",
       "\\item 54\n",
       "\\end{enumerate*}\n"
      ],
      "text/markdown": [
       "1. 10505\n",
       "2. 54\n",
       "\n",
       "\n"
      ],
      "text/plain": [
       "[1] 10505    54"
      ]
     },
     "metadata": {},
     "output_type": "display_data"
    },
    {
     "data": {
      "text/html": [
       "<ol class=list-inline>\n",
       "\t<li>2627</li>\n",
       "\t<li>54</li>\n",
       "</ol>\n"
      ],
      "text/latex": [
       "\\begin{enumerate*}\n",
       "\\item 2627\n",
       "\\item 54\n",
       "\\end{enumerate*}\n"
      ],
      "text/markdown": [
       "1. 2627\n",
       "2. 54\n",
       "\n",
       "\n"
      ],
      "text/plain": [
       "[1] 2627   54"
      ]
     },
     "metadata": {},
     "output_type": "display_data"
    },
    {
     "data": {
      "text/html": [
       "0"
      ],
      "text/latex": [
       "0"
      ],
      "text/markdown": [
       "0"
      ],
      "text/plain": [
       "[1] 0"
      ]
     },
     "metadata": {},
     "output_type": "display_data"
    },
    {
     "data": {
      "text/html": [
       "0"
      ],
      "text/latex": [
       "0"
      ],
      "text/markdown": [
       "0"
      ],
      "text/plain": [
       "[1] 0"
      ]
     },
     "metadata": {},
     "output_type": "display_data"
    }
   ],
   "source": [
    "# Test to make sure |imensions are square.\n",
    "dim(train_mat)\n",
    "dim(test_mat)\n",
    "dim(train)\n",
    "dim(test)\n",
    "sum(is.na(train_mat))\n",
    "sum(is.na(test_mat))\n",
    "#typeof(train_mat[1])\n",
    "#train_mat"
   ]
  },
  {
   "cell_type": "markdown",
   "id": "4a840512-6450-4106-bf8f-4dbee11a2d4c",
   "metadata": {
    "tags": []
   },
   "source": [
    "# CV GLMNET\n",
    "### For variable selection."
   ]
  },
  {
   "cell_type": "markdown",
   "id": "1d691514-4a95-4ce9-aa32-83c7094b5a55",
   "metadata": {},
   "source": [
    "Here I will use the glmulti() to try every combination of predictors and their pairwise interactions. \\\n",
    "https://www.youtube.com/watch?v=Im293ClFen4&t=342s"
   ]
  },
  {
   "cell_type": "code",
   "execution_count": 65,
   "id": "6fc60686-6324-4d9e-9b6f-d3136f64cfc8",
   "metadata": {
    "tags": []
   },
   "outputs": [],
   "source": [
    "#help(cv.glmnet)"
   ]
  },
  {
   "cell_type": "code",
   "execution_count": 66,
   "id": "4ae85755-faa2-4a9d-8c94-73978a1705c4",
   "metadata": {
    "tags": []
   },
   "outputs": [],
   "source": [
    "#help(predict.cv.glmnet)"
   ]
  },
  {
   "cell_type": "code",
   "execution_count": 67,
   "id": "2384f1dd-38fd-49b2-9a02-c0b72d250bec",
   "metadata": {
    "tags": []
   },
   "outputs": [
    {
     "data": {
      "text/html": [
       "'This is one iteration of what the below function carries out.\\nThis iteration is known as a Lasso Regression. This is becaus the alpha is set to 1.\\nWhere the function below iterates through all alphas.\\nThis allows us to test ridge regression(alpha = 0), lasso(alpha = 1), and inbetween at various steps.\\n'"
      ],
      "text/latex": [
       "'This is one iteration of what the below function carries out.\\textbackslash{}nThis iteration is known as a Lasso Regression. This is becaus the alpha is set to 1.\\textbackslash{}nWhere the function below iterates through all alphas.\\textbackslash{}nThis allows us to test ridge regression(alpha = 0), lasso(alpha = 1), and inbetween at various steps.\\textbackslash{}n'"
      ],
      "text/markdown": [
       "'This is one iteration of what the below function carries out.\\nThis iteration is known as a Lasso Regression. This is becaus the alpha is set to 1.\\nWhere the function below iterates through all alphas.\\nThis allows us to test ridge regression(alpha = 0), lasso(alpha = 1), and inbetween at various steps.\\n'"
      ],
      "text/plain": [
       "[1] \"This is one iteration of what the below function carries out.\\nThis iteration is known as a Lasso Regression. This is becaus the alpha is set to 1.\\nWhere the function below iterates through all alphas.\\nThis allows us to test ridge regression(alpha = 0), lasso(alpha = 1), and inbetween at various steps.\\n\""
      ]
     },
     "metadata": {},
     "output_type": "display_data"
    },
    {
     "name": "stdout",
     "output_type": "stream",
     "text": [
      "[1] \"RMSE\"\n"
     ]
    },
    {
     "data": {
      "text/html": [
       "7.6181678327018"
      ],
      "text/latex": [
       "7.6181678327018"
      ],
      "text/markdown": [
       "7.6181678327018"
      ],
      "text/plain": [
       "[1] 7.618168"
      ]
     },
     "metadata": {},
     "output_type": "display_data"
    },
    {
     "data": {
      "image/png": "[encoded data removed]",
      "text/plain": [
       "plot without title"
      ]
     },
     "metadata": {},
     "output_type": "display_data"
    }
   ],
   "source": [
    "'This is one iteration of what the below function carries out.\n",
    "This iteration is known as a Lasso Regression. This is becaus the alpha is set to 1.\n",
    "Where the function below iterates through all alphas.\n",
    "This allows us to test ridge regression(alpha = 0), lasso(alpha = 1), and inbetween at various steps.\n",
    "'\n",
    "#Store list\n",
    "list_of_fit = list\n",
    "a = cv.glmnet(train_mat, train$dage_y, \n",
    "                      type.measure = 'mse', alpha = 1, \n",
    "                      family = 'gaussian')\n",
    "\n",
    "pred = predict(a, s = a$lambda.1se, test_mat, type = 'response')\n",
    "rmse = sqrt(mean((pred - test$dage_y)^2))\n",
    "print('RMSE')\n",
    "rmse\n",
    "plot(a)"
   ]
  },
  {
   "cell_type": "code",
   "execution_count": 69,
   "id": "0d12e055-b09f-4ac6-8c08-0953a30589a9",
   "metadata": {
    "tags": []
   },
   "outputs": [],
   "source": [
    "# Elastic Net function.\n",
    "#load the library and set seed if desired.\n",
    "library(glmnet)\n",
    "\n",
    "# alhpa_step represents how the number of steps alpha will test between 0 and 1. \n",
    "# '.01' for alpha will produce 100 models and '.1' will produce 10.\n",
    "elastic_net = function(df, train_mat, test_mat, y_var, alpha_step){\n",
    "    \n",
    "    # Create's list of alphas to try.\n",
    "    alphas = seq(0,1, by = alpha_step)\n",
    "    #Store list\n",
    "    list_of_fit = list()\n",
    "    \n",
    "    # Produce models.\n",
    "    # Optimizes lambda then produces a model for each alhpa. \n",
    "    for(i in alphas){\n",
    "        fit_name = paste0('alpha', i)\n",
    "    \n",
    "        list_of_fit[[fit_name]] = cv.glmnet(train_mat, train$dage_y, \n",
    "                      type.measure = 'mse', alpha = i, \n",
    "                      family = 'gaussian')\n",
    "    }\n",
    "    \n",
    "    # Predict values\n",
    "    results = data.frame()\n",
    "    for(i in alphas){\n",
    "        fit_name = paste0('alpha', i)\n",
    "        \n",
    "        predicted = predict(list_of_fit[[fit_name]], \n",
    "                            s = list_of_fit[[fit_name]]$lambda.1se,\n",
    "                            test_mat, type = 'response')\n",
    "        \n",
    "        rmse = sqrt(mean((predicted - test$dage_y)^2))\n",
    "        mse = mean((predicted - test$dage_y)^2)\n",
    "        \n",
    "        temp = data.frame(alpha = i, rmse = rmse, mse = mse, fit.name = fit_name)\n",
    "        results = rbind(results, temp)\n",
    "    }\n",
    "    return(results)\n",
    "    }\n",
    "\n",
    "results = elastic_net(df, train_mat, test_mat, df$dage_y, .01)"
   ]
  },
  {
   "cell_type": "code",
   "execution_count": 70,
   "id": "071366b4-541b-45de-95ce-66015dbae012",
   "metadata": {
    "tags": []
   },
   "outputs": [
    {
     "data": {
      "text/html": [
       "<table>\n",
       "<thead><tr><th scope=col>alpha</th><th scope=col>rmse</th><th scope=col>mse</th><th scope=col>fit.name</th></tr></thead>\n",
       "<tbody>\n",
       "\t<tr><td>0.60     </td><td>7.580769 </td><td>57.46806 </td><td>alpha0.6 </td></tr>\n",
       "\t<tr><td>0.56     </td><td>7.584856 </td><td>57.53004 </td><td>alpha0.56</td></tr>\n",
       "\t<tr><td>0.35     </td><td>7.587662 </td><td>57.57262 </td><td>alpha0.35</td></tr>\n",
       "\t<tr><td>0.69     </td><td>7.588839 </td><td>57.59048 </td><td>alpha0.69</td></tr>\n",
       "\t<tr><td>0.41     </td><td>7.591500 </td><td>57.63087 </td><td>alpha0.41</td></tr>\n",
       "\t<tr><td>0.16     </td><td>7.592211 </td><td>57.64167 </td><td>alpha0.16</td></tr>\n",
       "\t<tr><td>0.10     </td><td>7.592228 </td><td>57.64192 </td><td>alpha0.1 </td></tr>\n",
       "\t<tr><td>0.95     </td><td>7.593260 </td><td>57.65759 </td><td>alpha0.95</td></tr>\n",
       "\t<tr><td>0.94     </td><td>7.593289 </td><td>57.65804 </td><td>alpha0.94</td></tr>\n",
       "\t<tr><td>0.88     </td><td>7.593477 </td><td>57.66090 </td><td>alpha0.88</td></tr>\n",
       "</tbody>\n",
       "</table>\n"
      ],
      "text/latex": [
       "\\begin{tabular}{r|llll}\n",
       " alpha & rmse & mse & fit.name\\\\\n",
       "\\hline\n",
       "\t 0.60      & 7.580769  & 57.46806  & alpha0.6 \\\\\n",
       "\t 0.56      & 7.584856  & 57.53004  & alpha0.56\\\\\n",
       "\t 0.35      & 7.587662  & 57.57262  & alpha0.35\\\\\n",
       "\t 0.69      & 7.588839  & 57.59048  & alpha0.69\\\\\n",
       "\t 0.41      & 7.591500  & 57.63087  & alpha0.41\\\\\n",
       "\t 0.16      & 7.592211  & 57.64167  & alpha0.16\\\\\n",
       "\t 0.10      & 7.592228  & 57.64192  & alpha0.1 \\\\\n",
       "\t 0.95      & 7.593260  & 57.65759  & alpha0.95\\\\\n",
       "\t 0.94      & 7.593289  & 57.65804  & alpha0.94\\\\\n",
       "\t 0.88      & 7.593477  & 57.66090  & alpha0.88\\\\\n",
       "\\end{tabular}\n"
      ],
      "text/markdown": [
       "\n",
       "| alpha | rmse | mse | fit.name |\n",
       "|---|---|---|---|\n",
       "| 0.60      | 7.580769  | 57.46806  | alpha0.6  |\n",
       "| 0.56      | 7.584856  | 57.53004  | alpha0.56 |\n",
       "| 0.35      | 7.587662  | 57.57262  | alpha0.35 |\n",
       "| 0.69      | 7.588839  | 57.59048  | alpha0.69 |\n",
       "| 0.41      | 7.591500  | 57.63087  | alpha0.41 |\n",
       "| 0.16      | 7.592211  | 57.64167  | alpha0.16 |\n",
       "| 0.10      | 7.592228  | 57.64192  | alpha0.1  |\n",
       "| 0.95      | 7.593260  | 57.65759  | alpha0.95 |\n",
       "| 0.94      | 7.593289  | 57.65804  | alpha0.94 |\n",
       "| 0.88      | 7.593477  | 57.66090  | alpha0.88 |\n",
       "\n"
      ],
      "text/plain": [
       "   alpha rmse     mse      fit.name \n",
       "1  0.60  7.580769 57.46806 alpha0.6 \n",
       "2  0.56  7.584856 57.53004 alpha0.56\n",
       "3  0.35  7.587662 57.57262 alpha0.35\n",
       "4  0.69  7.588839 57.59048 alpha0.69\n",
       "5  0.41  7.591500 57.63087 alpha0.41\n",
       "6  0.16  7.592211 57.64167 alpha0.16\n",
       "7  0.10  7.592228 57.64192 alpha0.1 \n",
       "8  0.95  7.593260 57.65759 alpha0.95\n",
       "9  0.94  7.593289 57.65804 alpha0.94\n",
       "10 0.88  7.593477 57.66090 alpha0.88"
      ]
     },
     "metadata": {},
     "output_type": "display_data"
    }
   ],
   "source": [
    "# Convert list to dataframe.\n",
    "# List 10 best models. \n",
    "results %>% arrange(mse) %>% head(10)"
   ]
  },
  {
   "cell_type": "code",
   "execution_count": 71,
   "id": "7aca3610-8efd-4a6a-8ab1-7e5a827d8cc4",
   "metadata": {},
   "outputs": [
    {
     "name": "stderr",
     "output_type": "stream",
     "text": [
      "`geom_smooth()` using method = 'loess' and formula 'y ~ x'\n"
     ]
    },
    {
     "data": {
      "image/png": "[encoded data removed]",
      "text/plain": [
       "plot without title"
      ]
     },
     "metadata": {},
     "output_type": "display_data"
    }
   ],
   "source": [
    "x = results$alpha\n",
    "y = results$mse\n",
    "y2 = results$rmse\n",
    "# Below sets up function to scale variable.\n",
    "scaleFUN <- function(x) sprintf(\"%.2f\", x)\n",
    "qplot(x,y2, geom = 'smooth', span = .2) +\n",
    "    ggtitle(\"Cross Validation of Elastic Net Alphas\") +\n",
    "    xlab(\"Alpha Value\") + ylab(\"Root Mean Squaered Error\")+\n",
    "    scale_y_continuous(labels=scaleFUN) +\n",
    "    theme_minimal()"
   ]
  },
  {
   "cell_type": "code",
   "execution_count": 75,
   "id": "9eea5f96-a25f-457b-ad28-195193434ecf",
   "metadata": {},
   "outputs": [
    {
     "data": {
      "text/html": [
       "'MSE of best model'"
      ],
      "text/latex": [
       "'MSE of best model'"
      ],
      "text/markdown": [
       "'MSE of best model'"
      ],
      "text/plain": [
       "[1] \"MSE of best model\""
      ]
     },
     "metadata": {},
     "output_type": "display_data"
    },
    {
     "data": {
      "text/html": [
       "57.7901764368104"
      ],
      "text/latex": [
       "57.7901764368104"
      ],
      "text/markdown": [
       "57.7901764368104"
      ],
      "text/plain": [
       "[1] 57.79018"
      ]
     },
     "metadata": {},
     "output_type": "display_data"
    },
    {
     "data": {
      "text/html": [
       "'RMSE of best model'"
      ],
      "text/latex": [
       "'RMSE of best model'"
      ],
      "text/markdown": [
       "'RMSE of best model'"
      ],
      "text/plain": [
       "[1] \"RMSE of best model\""
      ]
     },
     "metadata": {},
     "output_type": "display_data"
    },
    {
     "data": {
      "text/html": [
       "7.60198503266156"
      ],
      "text/latex": [
       "7.60198503266156"
      ],
      "text/markdown": [
       "7.60198503266156"
      ],
      "text/plain": [
       "[1] 7.601985"
      ]
     },
     "metadata": {},
     "output_type": "display_data"
    },
    {
     "data": {
      "text/plain": [
       "95 x 1 sparse Matrix of class \"dgCMatrix\"\n",
       "                                                 1\n",
       "(Intercept)                          -29.832706834\n",
       "(Intercept)                            .          \n",
       "cogtot                                 .          \n",
       "gender2.female                         0.001589976\n",
       "raracem2.black/african american       -0.786579187\n",
       "raracem3.other                        -2.484980470\n",
       "rahispan1.hispanic                    -2.499580675\n",
       "agey_m                                 0.587750358\n",
       "logiearn                               .          \n",
       "shlt2.very good                       -0.860460122\n",
       "shlt3.good                             .          \n",
       "shlt4.fair                             0.371182036\n",
       "shlt5.poor                             0.635500814\n",
       "shltc-2                                0.553256859\n",
       "shltc-3                                0.115169883\n",
       "shltc-4                                0.346869073\n",
       "shltc.m                                .          \n",
       "shltc.p                                3.395510604\n",
       "shltc0                                -0.250610972\n",
       "shltc1                                 .          \n",
       "shltc2                                 0.084143225\n",
       "shltc3                                -0.034246660\n",
       "shltc4                                 2.901614193\n",
       "raedyrs                                0.062256636\n",
       "mstat2.married,spouse absent           1.613768582\n",
       "mstat3.partnered                      -0.813697023\n",
       "mstat4.separated                      -0.790570920\n",
       "mstat5.divorced                       -1.354845585\n",
       "mstat6.separated/divorced              3.652765195\n",
       "mstat7.widowed                         0.851274832\n",
       "mstat8.never married                  -1.005610486\n",
       "bmi                                   -0.093227694\n",
       "smoken1.yes                            1.240609748\n",
       "hibp1.yes                              0.248537213\n",
       "hibp5.disp prev record (dk if cond)    4.920884297\n",
       "drinkn                                -0.321954280\n",
       "pstmem2.same                           .          \n",
       "pstmem3.worse                          .          \n",
       "depres1.yes                            0.161951038\n",
       "cendiv2.mid atlantic                   1.236990497\n",
       "cendiv3.en central                     0.105831621\n",
       "cendiv4.wn central                    -0.346408232\n",
       "cendiv5.s atlantic                     .          \n",
       "cendiv6.es central                    -1.356827827\n",
       "cendiv7.ws central                    -0.479780562\n",
       "cendiv8.mountain                       .          \n",
       "cendiv9.pacific                        0.612656394\n",
       "effort1.yes                            0.688825568\n",
       "sleepr1.yes                            0.002564330\n",
       "arthr1.yes                            -0.514769907\n",
       "arthr4.disp prev record and no cond    .          \n",
       "heart1.yes                             0.090524505\n",
       "heart4.disp prev record and no cond   -1.003993866\n",
       "heart5.disp prev record (dk if cond)   3.440500874\n",
       "heart6.preld prob:prev had/no new      7.447196140\n",
       "strok1.yes                             0.722200757\n",
       "strok2.tia/possible stroke             0.542524800\n",
       "strok4.disp prev record and no cond    .          \n",
       "strok5.disp prev record (dk if cond)   0.821632831\n",
       "psych1.yes                             0.229917658\n",
       "psych4.disp prev record and no cond    .          \n",
       "psych5.disp prev record (dk if cond)   6.016290567\n",
       "cancr1.yes                             0.494652648\n",
       "diab1.yes                             -0.017395440\n",
       "lung1.yes                              0.166199360\n",
       "lung4.disp prev record and no cond    -1.479093229\n",
       "lung5.disp prev record (dk if cond)    6.098700224\n",
       "slfmem2.very good                      0.673802434\n",
       "slfmem3.good                          -0.035688783\n",
       "slfmem4.fair                           .          \n",
       "slfmem5.poor                           .          \n",
       "covs0.no                              -1.154684851\n",
       "covs1.yes                             -0.099476455\n",
       "lbrf2.works pt                         0.015719212\n",
       "lbrf3.unemployed                      -0.139276928\n",
       "lbrf4.partly retired                  -0.813634594\n",
       "lbrf5.retired                          .          \n",
       "lbrf6.disabled                         1.455306113\n",
       "lbrf7.not in lbrf                      2.245055612\n",
       "smokev1.yes                            .          \n",
       "conde                                 -0.620457588\n",
       "hiltc.m=oth missing                    .          \n",
       "hiltc0.no                              .          \n",
       "hiltc1.yes                            -0.383890107\n",
       "spcfac.m=oth missing                   .          \n",
       "spcfac.n=in nhm                        9.639340738\n",
       "spcfac0.no                             .          \n",
       "spcfac1.yes                           -1.638911981\n",
       "loghspti                               0.608064731\n",
       "rarelig2.catholic                      .          \n",
       "rarelig3.jewish                        .          \n",
       "rarelig4.none/no pref                 -0.176886995\n",
       "rarelig5.other                         1.256117931\n",
       "ravetrn1.yes                           1.744003720\n",
       "loghatotb                             -0.047137478"
      ]
     },
     "metadata": {},
     "output_type": "display_data"
    },
    {
     "data": {
      "image/png": "[encoded data removed]",
      "text/plain": [
       "plot without title"
      ]
     },
     "metadata": {},
     "output_type": "display_data"
    }
   ],
   "source": [
    "m1 = cv.glmnet(train_mat, train$dage_y, \n",
    "                      type.measure = 'mse', alpha = .6, \n",
    "                      family = 'gaussian')\n",
    "predicted2 = predict(m1, \n",
    "                            s = m1$lambda.1se,\n",
    "                            test_mat, type = 'response')\n",
    "        \n",
    "rmse = sqrt(mean((predicted2 - test$dage_y)^2))\n",
    "mse = mean((predicted2 - test$dage_y)^2)\n",
    "'MSE of best model'\n",
    "mse\n",
    "'RMSE of best model'\n",
    "rmse \n",
    "plot(m1)\n",
    "coef(m1)"
   ]
  },
  {
   "cell_type": "code",
   "execution_count": 76,
   "id": "aec44215-ff62-4c10-8ebe-d8314c4b9080",
   "metadata": {},
   "outputs": [
    {
     "data": {
      "text/html": [
       "0.113517259274811"
      ],
      "text/latex": [
       "0.113517259274811"
      ],
      "text/markdown": [
       "0.113517259274811"
      ],
      "text/plain": [
       "[1] 0.1135173"
      ]
     },
     "metadata": {},
     "output_type": "display_data"
    }
   ],
   "source": [
    "# Report the alhpa value 1 standard error from the \n",
    "m1$lambda.1se"
   ]
  }
 ],
 "metadata": {
  "kernelspec": {
   "display_name": "R",
   "language": "R",
   "name": "ir"
  },
  "language_info": {
   "codemirror_mode": "r",
   "file_extension": ".r",
   "mimetype": "text/x-r-source",
   "name": "R",
   "pygments_lexer": "r",
   "version": "3.6.1"
  }
 },
 "nbformat": 4,
 "nbformat_minor": 5
}
