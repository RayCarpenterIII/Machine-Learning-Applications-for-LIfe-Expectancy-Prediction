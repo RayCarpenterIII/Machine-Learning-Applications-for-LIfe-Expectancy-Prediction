{
 "cells": [
  {
   "cell_type": "markdown",
   "id": "8b95d57b-c613-49df-be54-c8b839cca8b9",
   "metadata": {},
   "source": [
    "### OLS \n",
    "The purpose of this script is to run OLS on age at death in the HRS study. \\\n",
    "This is to have a baseline in which to judge the prediction capability of all the machine learning methods we will try. Normally fixed or random effects would be used here to deal with the longitudinal format. This script is only here to provide an initial baseline model to compare against."
   ]
  },
  {
   "cell_type": "code",
   "execution_count": 1,
   "id": "be996112-7d65-491a-ba37-8a3f936bcc5e",
   "metadata": {},
   "outputs": [
    {
     "name": "stderr",
     "output_type": "stream",
     "text": [
      "Warning message:\n",
      "\"package 'plm' was built under R version 3.6.3\""
     ]
    },
    {
     "data": {
      "text/html": [
       "<ol class=list-inline>\n",
       "\t<li>13132</li>\n",
       "\t<li>54</li>\n",
       "</ol>\n"
      ],
      "text/latex": [
       "\\begin{enumerate*}\n",
       "\\item 13132\n",
       "\\item 54\n",
       "\\end{enumerate*}\n"
      ],
      "text/markdown": [
       "1. 13132\n",
       "2. 54\n",
       "\n",
       "\n"
      ],
      "text/plain": [
       "[1] 13132    54"
      ]
     },
     "metadata": {},
     "output_type": "display_data"
    },
    {
     "data": {
      "text/html": [
       "<table>\n",
       "<thead><tr><th scope=col>hhidpn</th><th scope=col>wave</th><th scope=col>mstat</th><th scope=col>cendiv</th><th scope=col>gender</th><th scope=col>rahispan</th><th scope=col>raracem</th><th scope=col>iwbeg</th><th scope=col>dage_m</th><th scope=col>dage_y</th><th scope=col>raedyrs</th><th scope=col>rarelig</th><th scope=col>ravetrn</th><th scope=col>agey_m</th><th scope=col>shlt</th><th scope=col>shltc</th><th scope=col>depres</th><th scope=col>effort</th><th scope=col>sleepr</th><th scope=col>cesd</th><th scope=col>bmi</th><th scope=col>smokev</th><th scope=col>smoken</th><th scope=col>drinkn</th><th scope=col>hibp</th><th scope=col>diab</th><th scope=col>cancr</th><th scope=col>lung</th><th scope=col>heart</th><th scope=col>strok</th><th scope=col>psych</th><th scope=col>arthr</th><th scope=col>conde</th><th scope=col>cogtot</th><th scope=col>slfmem</th><th scope=col>pstmem</th><th scope=col>spcfac</th><th scope=col>hsptim</th><th scope=col>puff</th><th scope=col>puffpos</th><th scope=col>timwlk</th><th scope=col>hatotb</th><th scope=col>iearn</th><th scope=col>isret</th><th scope=col>covs</th><th scope=col>hiltc</th><th scope=col>lbrf</th><th scope=col>logiearn</th><th scope=col>logisret</th><th scope=col>loghspti</th><th scope=col>loghatotb</th><th scope=col>id</th><th scope=col>nt</th><th scope=col>n2</th></tr></thead>\n",
       "<tbody>\n",
       "\t<tr><td>3010                              </td><td> 3                                </td><td>1.married                         </td><td>9.pacific                         </td><td>1.male                            </td><td>0.not hispanic                    </td><td>1.white/caucasian                 </td><td>13345                             </td><td>931                               </td><td>77                                </td><td>12                                </td><td>1.protestant                      </td><td>0.no                              </td><td>60                                </td><td>3.good                            </td><td>-1                                </td><td>1.yes                             </td><td>1.yes                             </td><td>1.yes                             </td><td>3                                 </td><td>28.0                              </td><td>0.no                              </td><td>0.no                              </td><td>1                                 </td><td>0.no                              </td><td>0.no                              </td><td>0.no                              </td><td>0.no                              </td><td>1.yes                             </td><td>0.no                              </td><td>0.no                              </td><td>0.no                              </td><td>1                                 </td><td>35                                </td><td>4.fair                            </td><td>2.same                            </td><td>0.no                              </td><td>0                                 </td><td>                                  </td><td>                                  </td><td>                                  </td><td> 490500                           </td><td> 4000                             </td><td>    0                             </td><td>1.yes                             </td><td>1.yes                             </td><td>4.partly retired                  </td><td>8.294049                          </td><td>0.000000                          </td><td>0                                 </td><td>13.10318                          </td><td>2                                 </td><td>123702                            </td><td>7                                 </td></tr>\n",
       "\t<tr><td>3010                              </td><td> 6                                </td><td>1.married                         </td><td>9.pacific                         </td><td>1.male                            </td><td>0.not hispanic                    </td><td>1.white/caucasian                 </td><td>15445                             </td><td>931                               </td><td>77                                </td><td>12                                </td><td>1.protestant                      </td><td>0.no                              </td><td>66                                </td><td>3.good                            </td><td>-1                                </td><td>0.no                              </td><td>0.no                              </td><td>0.no                              </td><td>1                                 </td><td>28.3                              </td><td>0.no                              </td><td>0.no                              </td><td>0                                 </td><td>0.no                              </td><td>0.no                              </td><td>0.no                              </td><td>0.no                              </td><td>1.yes                             </td><td>0.no                              </td><td>0.no                              </td><td>0.no                              </td><td>1                                 </td><td>31                                </td><td>3.good                            </td><td>2.same                            </td><td>0.no                              </td><td>0                                 </td><td>                                  </td><td>                                  </td><td>                                  </td><td> 704000                           </td><td>10000                             </td><td>13728                             </td><td>0.no                              </td><td>1.yes                             </td><td>4.partly retired                  </td><td>9.210340                          </td><td>9.527193                          </td><td>0                                 </td><td>13.46453                          </td><td>3                                 </td><td>123702                            </td><td>7                                 </td></tr>\n",
       "\t<tr><td>3010                              </td><td> 7                                </td><td>1.married                         </td><td>9.pacific                         </td><td>1.male                            </td><td>0.not hispanic                    </td><td>1.white/caucasian                 </td><td>16267                             </td><td>931                               </td><td>77                                </td><td>12                                </td><td>1.protestant                      </td><td>0.no                              </td><td>68                                </td><td>3.good                            </td><td>0                                 </td><td>0.no                              </td><td>0.no                              </td><td>0.no                              </td><td>0                                 </td><td>26.6                              </td><td>0.no                              </td><td>0.no                              </td><td>0                                 </td><td>0.no                              </td><td>0.no                              </td><td>0.no                              </td><td>0.no                              </td><td>1.yes                             </td><td>0.no                              </td><td>0.no                              </td><td>0.no                              </td><td>1                                 </td><td>18                                </td><td>3.good                            </td><td>2.same                            </td><td>0.no                              </td><td>0                                 </td><td>                                  </td><td>                                  </td><td>                                  </td><td> 756000                           </td><td> 6000                             </td><td>15600                             </td><td>0.no                              </td><td>1.yes                             </td><td>4.partly retired                  </td><td>8.699514                          </td><td>9.655026                          </td><td>0                                 </td><td>13.53580                          </td><td>4                                 </td><td>123702                            </td><td>7                                 </td></tr>\n",
       "\t<tr><td>3010                              </td><td> 8                                </td><td>1.married                         </td><td>9.pacific                         </td><td>1.male                            </td><td>0.not hispanic                    </td><td>1.white/caucasian                 </td><td>16875                             </td><td>931                               </td><td>77                                </td><td>12                                </td><td>1.protestant                      </td><td>0.no                              </td><td>70                                </td><td>3.good                            </td><td>0                                 </td><td>0.no                              </td><td>0.no                              </td><td>0.no                              </td><td>0                                 </td><td>27.1                              </td><td>0.no                              </td><td>0.no                              </td><td>0                                 </td><td>0.no                              </td><td>0.no                              </td><td>0.no                              </td><td>0.no                              </td><td>1.yes                             </td><td>0.no                              </td><td>0.no                              </td><td>0.no                              </td><td>1                                 </td><td>20                                </td><td>4.fair                            </td><td>2.same                            </td><td>0.no                              </td><td>0                                 </td><td>490                               </td><td>1.standing                        </td><td>2.78                              </td><td> 914000                           </td><td>    0                             </td><td>14040                             </td><td>0.no                              </td><td>1.yes                             </td><td>5.retired                         </td><td>0.000000                          </td><td>9.549665                          </td><td>0                                 </td><td>13.72559                          </td><td>5                                 </td><td>123702                            </td><td>7                                 </td></tr>\n",
       "\t<tr><td>3010                              </td><td> 9                                </td><td>1.married                         </td><td>9.pacific                         </td><td>1.male                            </td><td>0.not hispanic                    </td><td>1.white/caucasian                 </td><td>17577                             </td><td>931                               </td><td>77                                </td><td>12                                </td><td>1.protestant                      </td><td>0.no                              </td><td>72                                </td><td>3.good                            </td><td>0                                 </td><td>0.no                              </td><td>0.no                              </td><td>0.no                              </td><td>0                                 </td><td>24.7                              </td><td>0.no                              </td><td>0.no                              </td><td>1                                 </td><td>0.no                              </td><td>0.no                              </td><td>0.no                              </td><td>0.no                              </td><td>1.yes                             </td><td>0.no                              </td><td>0.no                              </td><td>0.no                              </td><td>1                                 </td><td>26                                </td><td>3.good                            </td><td>2.same                            </td><td>0.no                              </td><td>1                                 </td><td>.a                                </td><td>.a=r not asked phys meas this wave</td><td>.a                                </td><td>1156000                           </td><td>    0                             </td><td>15600                             </td><td>0.no                              </td><td>1.yes                             </td><td>5.retired                         </td><td>0.000000                          </td><td>9.655026                          </td><td>0                                 </td><td>13.96048                          </td><td>6                                 </td><td>123702                            </td><td>7                                 </td></tr>\n",
       "\t<tr><td>3010                              </td><td>10                                </td><td>1.married                         </td><td>9.pacific                         </td><td>1.male                            </td><td>0.not hispanic                    </td><td>1.white/caucasian                 </td><td>18520                             </td><td>931                               </td><td>77                                </td><td>12                                </td><td>1.protestant                      </td><td>0.no                              </td><td>74                                </td><td>3.good                            </td><td>0                                 </td><td>0.no                              </td><td>0.no                              </td><td>0.no                              </td><td>0                                 </td><td>24.0                              </td><td>0.no                              </td><td>0.no                              </td><td>0                                 </td><td>0.no                              </td><td>0.no                              </td><td>0.no                              </td><td>0.no                              </td><td>1.yes                             </td><td>0.no                              </td><td>0.no                              </td><td>0.no                              </td><td>1                                 </td><td>17                                </td><td>4.fair                            </td><td>3.worse                           </td><td>0.no                              </td><td>0                                 </td><td>330                               </td><td>1.standing                        </td><td>3.0999999                         </td><td>1240000                           </td><td>    0                             </td><td>16644                             </td><td>0.no                              </td><td>1.yes                             </td><td>5.retired                         </td><td>0.000000                          </td><td>9.719805                          </td><td>0                                 </td><td>14.03062                          </td><td>7                                 </td><td>123702                            </td><td>7                                 </td></tr>\n",
       "</tbody>\n",
       "</table>\n"
      ],
      "text/latex": [
       "\\begin{tabular}{r|llllllllllllllllllllllllllllllllllllllllllllllllllllll}\n",
       " hhidpn & wave & mstat & cendiv & gender & rahispan & raracem & iwbeg & dage\\_m & dage\\_y & raedyrs & rarelig & ravetrn & agey\\_m & shlt & shltc & depres & effort & sleepr & cesd & bmi & smokev & smoken & drinkn & hibp & diab & cancr & lung & heart & strok & psych & arthr & conde & cogtot & slfmem & pstmem & spcfac & hsptim & puff & puffpos & timwlk & hatotb & iearn & isret & covs & hiltc & lbrf & logiearn & logisret & loghspti & loghatotb & id & nt & n2\\\\\n",
       "\\hline\n",
       "\t 3010                               &  3                                 & 1.married                          & 9.pacific                          & 1.male                             & 0.not hispanic                     & 1.white/caucasian                  & 13345                              & 931                                & 77                                 & 12                                 & 1.protestant                       & 0.no                               & 60                                 & 3.good                             & -1                                 & 1.yes                              & 1.yes                              & 1.yes                              & 3                                  & 28.0                               & 0.no                               & 0.no                               & 1                                  & 0.no                               & 0.no                               & 0.no                               & 0.no                               & 1.yes                              & 0.no                               & 0.no                               & 0.no                               & 1                                  & 35                                 & 4.fair                             & 2.same                             & 0.no                               & 0                                  &                                    &                                    &                                    &  490500                            &  4000                              &     0                              & 1.yes                              & 1.yes                              & 4.partly retired                   & 8.294049                           & 0.000000                           & 0                                  & 13.10318                           & 2                                  & 123702                             & 7                                 \\\\\n",
       "\t 3010                               &  6                                 & 1.married                          & 9.pacific                          & 1.male                             & 0.not hispanic                     & 1.white/caucasian                  & 15445                              & 931                                & 77                                 & 12                                 & 1.protestant                       & 0.no                               & 66                                 & 3.good                             & -1                                 & 0.no                               & 0.no                               & 0.no                               & 1                                  & 28.3                               & 0.no                               & 0.no                               & 0                                  & 0.no                               & 0.no                               & 0.no                               & 0.no                               & 1.yes                              & 0.no                               & 0.no                               & 0.no                               & 1                                  & 31                                 & 3.good                             & 2.same                             & 0.no                               & 0                                  &                                    &                                    &                                    &  704000                            & 10000                              & 13728                              & 0.no                               & 1.yes                              & 4.partly retired                   & 9.210340                           & 9.527193                           & 0                                  & 13.46453                           & 3                                  & 123702                             & 7                                 \\\\\n",
       "\t 3010                               &  7                                 & 1.married                          & 9.pacific                          & 1.male                             & 0.not hispanic                     & 1.white/caucasian                  & 16267                              & 931                                & 77                                 & 12                                 & 1.protestant                       & 0.no                               & 68                                 & 3.good                             & 0                                  & 0.no                               & 0.no                               & 0.no                               & 0                                  & 26.6                               & 0.no                               & 0.no                               & 0                                  & 0.no                               & 0.no                               & 0.no                               & 0.no                               & 1.yes                              & 0.no                               & 0.no                               & 0.no                               & 1                                  & 18                                 & 3.good                             & 2.same                             & 0.no                               & 0                                  &                                    &                                    &                                    &  756000                            &  6000                              & 15600                              & 0.no                               & 1.yes                              & 4.partly retired                   & 8.699514                           & 9.655026                           & 0                                  & 13.53580                           & 4                                  & 123702                             & 7                                 \\\\\n",
       "\t 3010                               &  8                                 & 1.married                          & 9.pacific                          & 1.male                             & 0.not hispanic                     & 1.white/caucasian                  & 16875                              & 931                                & 77                                 & 12                                 & 1.protestant                       & 0.no                               & 70                                 & 3.good                             & 0                                  & 0.no                               & 0.no                               & 0.no                               & 0                                  & 27.1                               & 0.no                               & 0.no                               & 0                                  & 0.no                               & 0.no                               & 0.no                               & 0.no                               & 1.yes                              & 0.no                               & 0.no                               & 0.no                               & 1                                  & 20                                 & 4.fair                             & 2.same                             & 0.no                               & 0                                  & 490                                & 1.standing                         & 2.78                               &  914000                            &     0                              & 14040                              & 0.no                               & 1.yes                              & 5.retired                          & 0.000000                           & 9.549665                           & 0                                  & 13.72559                           & 5                                  & 123702                             & 7                                 \\\\\n",
       "\t 3010                               &  9                                 & 1.married                          & 9.pacific                          & 1.male                             & 0.not hispanic                     & 1.white/caucasian                  & 17577                              & 931                                & 77                                 & 12                                 & 1.protestant                       & 0.no                               & 72                                 & 3.good                             & 0                                  & 0.no                               & 0.no                               & 0.no                               & 0                                  & 24.7                               & 0.no                               & 0.no                               & 1                                  & 0.no                               & 0.no                               & 0.no                               & 0.no                               & 1.yes                              & 0.no                               & 0.no                               & 0.no                               & 1                                  & 26                                 & 3.good                             & 2.same                             & 0.no                               & 1                                  & .a                                 & .a=r not asked phys meas this wave & .a                                 & 1156000                            &     0                              & 15600                              & 0.no                               & 1.yes                              & 5.retired                          & 0.000000                           & 9.655026                           & 0                                  & 13.96048                           & 6                                  & 123702                             & 7                                 \\\\\n",
       "\t 3010                               & 10                                 & 1.married                          & 9.pacific                          & 1.male                             & 0.not hispanic                     & 1.white/caucasian                  & 18520                              & 931                                & 77                                 & 12                                 & 1.protestant                       & 0.no                               & 74                                 & 3.good                             & 0                                  & 0.no                               & 0.no                               & 0.no                               & 0                                  & 24.0                               & 0.no                               & 0.no                               & 0                                  & 0.no                               & 0.no                               & 0.no                               & 0.no                               & 1.yes                              & 0.no                               & 0.no                               & 0.no                               & 1                                  & 17                                 & 4.fair                             & 3.worse                            & 0.no                               & 0                                  & 330                                & 1.standing                         & 3.0999999                          & 1240000                            &     0                              & 16644                              & 0.no                               & 1.yes                              & 5.retired                          & 0.000000                           & 9.719805                           & 0                                  & 14.03062                           & 7                                  & 123702                             & 7                                 \\\\\n",
       "\\end{tabular}\n"
      ],
      "text/markdown": [
       "\n",
       "| hhidpn | wave | mstat | cendiv | gender | rahispan | raracem | iwbeg | dage_m | dage_y | raedyrs | rarelig | ravetrn | agey_m | shlt | shltc | depres | effort | sleepr | cesd | bmi | smokev | smoken | drinkn | hibp | diab | cancr | lung | heart | strok | psych | arthr | conde | cogtot | slfmem | pstmem | spcfac | hsptim | puff | puffpos | timwlk | hatotb | iearn | isret | covs | hiltc | lbrf | logiearn | logisret | loghspti | loghatotb | id | nt | n2 |\n",
       "|---|---|---|---|---|---|---|---|---|---|---|---|---|---|---|---|---|---|---|---|---|---|---|---|---|---|---|---|---|---|---|---|---|---|---|---|---|---|---|---|---|---|---|---|---|---|---|---|---|---|---|---|---|---|\n",
       "| 3010                               |  3                                 | 1.married                          | 9.pacific                          | 1.male                             | 0.not hispanic                     | 1.white/caucasian                  | 13345                              | 931                                | 77                                 | 12                                 | 1.protestant                       | 0.no                               | 60                                 | 3.good                             | -1                                 | 1.yes                              | 1.yes                              | 1.yes                              | 3                                  | 28.0                               | 0.no                               | 0.no                               | 1                                  | 0.no                               | 0.no                               | 0.no                               | 0.no                               | 1.yes                              | 0.no                               | 0.no                               | 0.no                               | 1                                  | 35                                 | 4.fair                             | 2.same                             | 0.no                               | 0                                  |                                    |                                    |                                    |  490500                            |  4000                              |     0                              | 1.yes                              | 1.yes                              | 4.partly retired                   | 8.294049                           | 0.000000                           | 0                                  | 13.10318                           | 2                                  | 123702                             | 7                                  |\n",
       "| 3010                               |  6                                 | 1.married                          | 9.pacific                          | 1.male                             | 0.not hispanic                     | 1.white/caucasian                  | 15445                              | 931                                | 77                                 | 12                                 | 1.protestant                       | 0.no                               | 66                                 | 3.good                             | -1                                 | 0.no                               | 0.no                               | 0.no                               | 1                                  | 28.3                               | 0.no                               | 0.no                               | 0                                  | 0.no                               | 0.no                               | 0.no                               | 0.no                               | 1.yes                              | 0.no                               | 0.no                               | 0.no                               | 1                                  | 31                                 | 3.good                             | 2.same                             | 0.no                               | 0                                  |                                    |                                    |                                    |  704000                            | 10000                              | 13728                              | 0.no                               | 1.yes                              | 4.partly retired                   | 9.210340                           | 9.527193                           | 0                                  | 13.46453                           | 3                                  | 123702                             | 7                                  |\n",
       "| 3010                               |  7                                 | 1.married                          | 9.pacific                          | 1.male                             | 0.not hispanic                     | 1.white/caucasian                  | 16267                              | 931                                | 77                                 | 12                                 | 1.protestant                       | 0.no                               | 68                                 | 3.good                             | 0                                  | 0.no                               | 0.no                               | 0.no                               | 0                                  | 26.6                               | 0.no                               | 0.no                               | 0                                  | 0.no                               | 0.no                               | 0.no                               | 0.no                               | 1.yes                              | 0.no                               | 0.no                               | 0.no                               | 1                                  | 18                                 | 3.good                             | 2.same                             | 0.no                               | 0                                  |                                    |                                    |                                    |  756000                            |  6000                              | 15600                              | 0.no                               | 1.yes                              | 4.partly retired                   | 8.699514                           | 9.655026                           | 0                                  | 13.53580                           | 4                                  | 123702                             | 7                                  |\n",
       "| 3010                               |  8                                 | 1.married                          | 9.pacific                          | 1.male                             | 0.not hispanic                     | 1.white/caucasian                  | 16875                              | 931                                | 77                                 | 12                                 | 1.protestant                       | 0.no                               | 70                                 | 3.good                             | 0                                  | 0.no                               | 0.no                               | 0.no                               | 0                                  | 27.1                               | 0.no                               | 0.no                               | 0                                  | 0.no                               | 0.no                               | 0.no                               | 0.no                               | 1.yes                              | 0.no                               | 0.no                               | 0.no                               | 1                                  | 20                                 | 4.fair                             | 2.same                             | 0.no                               | 0                                  | 490                                | 1.standing                         | 2.78                               |  914000                            |     0                              | 14040                              | 0.no                               | 1.yes                              | 5.retired                          | 0.000000                           | 9.549665                           | 0                                  | 13.72559                           | 5                                  | 123702                             | 7                                  |\n",
       "| 3010                               |  9                                 | 1.married                          | 9.pacific                          | 1.male                             | 0.not hispanic                     | 1.white/caucasian                  | 17577                              | 931                                | 77                                 | 12                                 | 1.protestant                       | 0.no                               | 72                                 | 3.good                             | 0                                  | 0.no                               | 0.no                               | 0.no                               | 0                                  | 24.7                               | 0.no                               | 0.no                               | 1                                  | 0.no                               | 0.no                               | 0.no                               | 0.no                               | 1.yes                              | 0.no                               | 0.no                               | 0.no                               | 1                                  | 26                                 | 3.good                             | 2.same                             | 0.no                               | 1                                  | .a                                 | .a=r not asked phys meas this wave | .a                                 | 1156000                            |     0                              | 15600                              | 0.no                               | 1.yes                              | 5.retired                          | 0.000000                           | 9.655026                           | 0                                  | 13.96048                           | 6                                  | 123702                             | 7                                  |\n",
       "| 3010                               | 10                                 | 1.married                          | 9.pacific                          | 1.male                             | 0.not hispanic                     | 1.white/caucasian                  | 18520                              | 931                                | 77                                 | 12                                 | 1.protestant                       | 0.no                               | 74                                 | 3.good                             | 0                                  | 0.no                               | 0.no                               | 0.no                               | 0                                  | 24.0                               | 0.no                               | 0.no                               | 0                                  | 0.no                               | 0.no                               | 0.no                               | 0.no                               | 1.yes                              | 0.no                               | 0.no                               | 0.no                               | 1                                  | 17                                 | 4.fair                             | 3.worse                            | 0.no                               | 0                                  | 330                                | 1.standing                         | 3.0999999                          | 1240000                            |     0                              | 16644                              | 0.no                               | 1.yes                              | 5.retired                          | 0.000000                           | 9.719805                           | 0                                  | 14.03062                           | 7                                  | 123702                             | 7                                  |\n",
       "\n"
      ],
      "text/plain": [
       "  hhidpn wave mstat     cendiv    gender rahispan       raracem           iwbeg\n",
       "1 3010    3   1.married 9.pacific 1.male 0.not hispanic 1.white/caucasian 13345\n",
       "2 3010    6   1.married 9.pacific 1.male 0.not hispanic 1.white/caucasian 15445\n",
       "3 3010    7   1.married 9.pacific 1.male 0.not hispanic 1.white/caucasian 16267\n",
       "4 3010    8   1.married 9.pacific 1.male 0.not hispanic 1.white/caucasian 16875\n",
       "5 3010    9   1.married 9.pacific 1.male 0.not hispanic 1.white/caucasian 17577\n",
       "6 3010   10   1.married 9.pacific 1.male 0.not hispanic 1.white/caucasian 18520\n",
       "  dage_m dage_y raedyrs rarelig      ravetrn agey_m shlt   shltc depres effort\n",
       "1 931    77     12      1.protestant 0.no    60     3.good -1    1.yes  1.yes \n",
       "2 931    77     12      1.protestant 0.no    66     3.good -1    0.no   0.no  \n",
       "3 931    77     12      1.protestant 0.no    68     3.good 0     0.no   0.no  \n",
       "4 931    77     12      1.protestant 0.no    70     3.good 0     0.no   0.no  \n",
       "5 931    77     12      1.protestant 0.no    72     3.good 0     0.no   0.no  \n",
       "6 931    77     12      1.protestant 0.no    74     3.good 0     0.no   0.no  \n",
       "  sleepr cesd bmi  smokev smoken drinkn hibp diab cancr lung heart strok psych\n",
       "1 1.yes  3    28.0 0.no   0.no   1      0.no 0.no 0.no  0.no 1.yes 0.no  0.no \n",
       "2 0.no   1    28.3 0.no   0.no   0      0.no 0.no 0.no  0.no 1.yes 0.no  0.no \n",
       "3 0.no   0    26.6 0.no   0.no   0      0.no 0.no 0.no  0.no 1.yes 0.no  0.no \n",
       "4 0.no   0    27.1 0.no   0.no   0      0.no 0.no 0.no  0.no 1.yes 0.no  0.no \n",
       "5 0.no   0    24.7 0.no   0.no   1      0.no 0.no 0.no  0.no 1.yes 0.no  0.no \n",
       "6 0.no   0    24.0 0.no   0.no   0      0.no 0.no 0.no  0.no 1.yes 0.no  0.no \n",
       "  arthr conde cogtot slfmem pstmem  spcfac hsptim puff\n",
       "1 0.no  1     35     4.fair 2.same  0.no   0          \n",
       "2 0.no  1     31     3.good 2.same  0.no   0          \n",
       "3 0.no  1     18     3.good 2.same  0.no   0          \n",
       "4 0.no  1     20     4.fair 2.same  0.no   0      490 \n",
       "5 0.no  1     26     3.good 2.same  0.no   1      .a  \n",
       "6 0.no  1     17     4.fair 3.worse 0.no   0      330 \n",
       "  puffpos                            timwlk    hatotb  iearn isret covs  hiltc\n",
       "1                                               490500  4000     0 1.yes 1.yes\n",
       "2                                               704000 10000 13728 0.no  1.yes\n",
       "3                                               756000  6000 15600 0.no  1.yes\n",
       "4 1.standing                         2.78       914000     0 14040 0.no  1.yes\n",
       "5 .a=r not asked phys meas this wave .a        1156000     0 15600 0.no  1.yes\n",
       "6 1.standing                         3.0999999 1240000     0 16644 0.no  1.yes\n",
       "  lbrf             logiearn logisret loghspti loghatotb id nt     n2\n",
       "1 4.partly retired 8.294049 0.000000 0        13.10318  2  123702 7 \n",
       "2 4.partly retired 9.210340 9.527193 0        13.46453  3  123702 7 \n",
       "3 4.partly retired 8.699514 9.655026 0        13.53580  4  123702 7 \n",
       "4 5.retired        0.000000 9.549665 0        13.72559  5  123702 7 \n",
       "5 5.retired        0.000000 9.655026 0        13.96048  6  123702 7 \n",
       "6 5.retired        0.000000 9.719805 0        14.03062  7  123702 7 "
      ]
     },
     "metadata": {},
     "output_type": "display_data"
    }
   ],
   "source": [
    "# Show all columns.\n",
    "options(repr.matrix.max.cols=150, repr.matrix.max.rows=200)\n",
    "library(plm)\n",
    "\n",
    "df = read.csv('le_111422.csv')\n",
    "dim(df)\n",
    "head(df)"
   ]
  },
  {
   "cell_type": "code",
   "execution_count": 2,
   "id": "12b91e49-2deb-4191-884d-6695f82e4c28",
   "metadata": {
    "tags": []
   },
   "outputs": [
    {
     "data": {
      "text/html": [
       "<ol class=list-inline>\n",
       "\t<li>13132</li>\n",
       "\t<li>54</li>\n",
       "</ol>\n"
      ],
      "text/latex": [
       "\\begin{enumerate*}\n",
       "\\item 13132\n",
       "\\item 54\n",
       "\\end{enumerate*}\n"
      ],
      "text/markdown": [
       "1. 13132\n",
       "2. 54\n",
       "\n",
       "\n"
      ],
      "text/plain": [
       "[1] 13132    54"
      ]
     },
     "metadata": {},
     "output_type": "display_data"
    }
   ],
   "source": [
    "# Specify data as numeric or factor\n",
    "# Doesn't like dents\n",
    "df = na.omit(df)\n",
    "names_factor = c('gender', 'raracem', 'rahispan', 'mstat', 'shlt', \n",
    "                 'depres', 'cendiv' , 'effort', \n",
    "                 'sleepr', 'arthr','heart', 'strok', 'psych', 'cancr', 'wave',\n",
    "                  'slfmem', 'covs',\n",
    "                  'lbrf', 'smokev',  'hiltc',\n",
    "                  'spcfac', 'rarelig','ravetrn')\n",
    "df[,names_factor] = lapply(df[,names_factor], factor)\n",
    "names_numeric = c('iearn', 'logiearn', 'bmi', 'cogtot','drinkn',\n",
    "                   'dage_y','conde', 'raedyrs',\n",
    "                  'logisret', 'loghatotb','loghspti')\n",
    "df[,names_numeric] = lapply(df[,names_numeric], as.numeric)\n",
    "dim(df)"
   ]
  },
  {
   "cell_type": "code",
   "execution_count": 3,
   "id": "5479faf1-ec9f-4dfd-b3af-2dfb848ca8bc",
   "metadata": {},
   "outputs": [],
   "source": [
    "clean_var = df$hiltc\n",
    "df = df[clean_var != '.m=oth missing' ,]"
   ]
  },
  {
   "cell_type": "code",
   "execution_count": 4,
   "id": "b116eafa-de04-4035-ad82-73adcd968815",
   "metadata": {
    "tags": []
   },
   "outputs": [],
   "source": [
    "# Drop timwlk, puff, and puffpos.\n",
    "df = subset(df, select = -c(timwlk,puff, puffpos,dage_m, hhidpn, iwbeg, cesd,hsptim, hatotb, iearn, isret) )"
   ]
  },
  {
   "cell_type": "code",
   "execution_count": 5,
   "id": "a9231b59-c3f6-40ed-a939-61ce66abe02f",
   "metadata": {},
   "outputs": [],
   "source": [
    "# Split data\n",
    "n = dim(df)[1]\n",
    "training_ratio = .8\n",
    "train_size = sort(sample(1:n, training_ratio*n))\n",
    "train = na.omit(df[train_size,])\n",
    "test = na.omit(df[-train_size,])"
   ]
  },
  {
   "cell_type": "code",
   "execution_count": 6,
   "id": "43b1308c-b68f-4be0-b654-275224ca8d60",
   "metadata": {},
   "outputs": [
    {
     "name": "stderr",
     "output_type": "stream",
     "text": [
      "Warning message in predict.lm(ols, test):\n",
      "\"prediction from a rank-deficient fit may be misleading\"Warning message in ols_pred - df$dage_y:\n",
      "\"longer object length is not a multiple of shorter object length\""
     ]
    },
    {
     "data": {
      "text/html": [
       "<table>\n",
       "<thead><tr><th scope=col>OLS</th></tr></thead>\n",
       "<tbody>\n",
       "\t<tr><td>11.86039</td></tr>\n",
       "</tbody>\n",
       "</table>\n"
      ],
      "text/latex": [
       "\\begin{tabular}{r|l}\n",
       " OLS\\\\\n",
       "\\hline\n",
       "\t 11.86039\\\\\n",
       "\\end{tabular}\n"
      ],
      "text/markdown": [
       "\n",
       "| OLS |\n",
       "|---|\n",
       "| 11.86039 |\n",
       "\n"
      ],
      "text/plain": [
       "  OLS     \n",
       "1 11.86039"
      ]
     },
     "metadata": {},
     "output_type": "display_data"
    }
   ],
   "source": [
    "# Perform OLS\n",
    "ols = lm(dage_y ~ ., data = train)\n",
    "ols_pred = predict(ols, test)\n",
    "ols_rmse = sqrt(mean((ols_pred - df$dage_y)^2))\n",
    "models_rmse = data.frame(OLS = ols_rmse) \n",
    "models_rmse "
   ]
  },
  {
   "cell_type": "code",
   "execution_count": 16,
   "id": "183ccd6a-1810-4f6f-8b51-fdbcd43791d1",
   "metadata": {},
   "outputs": [
    {
     "name": "stderr",
     "output_type": "stream",
     "text": [
      "Warning message in ols_pred - df$dage_y:\n",
      "\"longer object length is not a multiple of shorter object length\""
     ]
    },
    {
     "data": {
      "text/html": [
       "<table>\n",
       "<thead><tr><th scope=col>OLS</th><th scope=col>LM Interactions</th></tr></thead>\n",
       "<tbody>\n",
       "\t<tr><td>11.86039</td><td>10.89913</td></tr>\n",
       "</tbody>\n",
       "</table>\n"
      ],
      "text/latex": [
       "\\begin{tabular}{r|ll}\n",
       " OLS & LM Interactions\\\\\n",
       "\\hline\n",
       "\t 11.86039 & 10.89913\\\\\n",
       "\\end{tabular}\n"
      ],
      "text/markdown": [
       "\n",
       "| OLS | LM Interactions |\n",
       "|---|---|\n",
       "| 11.86039 | 10.89913 |\n",
       "\n"
      ],
      "text/plain": [
       "  OLS      LM Interactions\n",
       "1 11.86039 10.89913       "
      ]
     },
     "metadata": {},
     "output_type": "display_data"
    }
   ],
   "source": [
    "# Perform OLS\n",
    "ols1 = lm(dage_y ~ cogtot+ gender + raracem + rahispan + agey_m*agey_m + agey_m +logiearn +\n",
    "                         shlt + shltc*raedyrs +raedyrs +mstat +\n",
    "                         raedyrs*bmi + hibp*cogtot+hibp*smoken + hibp*drinkn + hibp*pstmem + \n",
    "                         + depres + cendiv + effort + bmi*bmi\n",
    "                        +  sleepr + bmi + smoken + drinkn + arthr + heart + strok + psych + cancr\n",
    "                         + diab  + lung + slfmem + pstmem  + covs\n",
    "                          + lbrf + raedyrs + smokev + hibp + conde \n",
    "                          + hiltc  + spcfac + loghspti + rarelig + ravetrn  \n",
    "                          + loghatotb + loghspti , data = train)\n",
    "ols_pred = predict(ols1, test)\n",
    "ols_rmse = sqrt(mean((ols_pred - df$dage_y)^2))\n",
    "models_rmse['LM Interactions'] = ols_rmse\n",
    "models_rmse "
   ]
  },
  {
   "cell_type": "code",
   "execution_count": 23,
   "id": "0a6ff44d-b335-4352-a48a-c7a6213eda24",
   "metadata": {},
   "outputs": [
    {
     "data": {
      "text/plain": [
       "\n",
       "Call:\n",
       "lm(formula = dage_y ~ ., data = train)\n",
       "\n",
       "Residuals:\n",
       "     Min       1Q   Median       3Q      Max \n",
       "-25.5914  -1.7422   0.4955   3.1534  11.5225 \n",
       "\n",
       "Coefficients: (2 not defined because of singularities)\n",
       "                                       Estimate Std. Error t value Pr(>|t|)    \n",
       "(Intercept)                          -3.434e+01  2.322e+00 -14.790  < 2e-16 ***\n",
       "wave4                                -4.995e-01  3.235e-01  -1.544  0.12262    \n",
       "wave5                                -2.148e+00  3.016e-01  -7.122 1.13e-12 ***\n",
       "wave6                                -4.109e+00  2.959e-01 -13.886  < 2e-16 ***\n",
       "wave7                                -6.158e+00  2.882e-01 -21.366  < 2e-16 ***\n",
       "wave8                                -8.137e+00  2.795e-01 -29.112  < 2e-16 ***\n",
       "wave9                                -9.672e+00  2.724e-01 -35.506  < 2e-16 ***\n",
       "wave10                               -1.180e+01  2.924e-01 -40.349  < 2e-16 ***\n",
       "wave11                               -1.314e+01  3.035e-01 -43.287  < 2e-16 ***\n",
       "wave12                               -1.518e+01  3.187e-01 -47.641  < 2e-16 ***\n",
       "wave13                               -1.720e+01  3.386e-01 -50.790  < 2e-16 ***\n",
       "wave14                               -1.886e+01  3.662e-01 -51.504  < 2e-16 ***\n",
       "mstat2.married,spouse absent          4.804e-01  6.950e-01   0.691  0.48947    \n",
       "mstat3.partnered                     -3.738e-01  3.311e-01  -1.129  0.25890    \n",
       "mstat4.separated                     -8.797e-01  6.258e-01  -1.406  0.15978    \n",
       "mstat5.divorced                      -4.193e-01  2.226e-01  -1.883  0.05970 .  \n",
       "mstat6.separated/divorced            -5.430e-01  6.344e-01  -0.856  0.39203    \n",
       "mstat7.widowed                       -7.333e-02  1.424e-01  -0.515  0.60654    \n",
       "mstat8.never married                 -4.089e-01  3.787e-01  -1.080  0.28034    \n",
       "cendiv2.mid atlantic                  1.232e+00  3.112e-01   3.957 7.63e-05 ***\n",
       "cendiv3.en central                    1.357e-01  3.028e-01   0.448  0.65417    \n",
       "cendiv4.wn central                   -1.165e-01  3.275e-01  -0.356  0.72197    \n",
       "cendiv5.s atlantic                    3.234e-01  2.957e-01   1.093  0.27421    \n",
       "cendiv6.es central                   -6.340e-01  3.530e-01  -1.796  0.07255 .  \n",
       "cendiv7.ws central                   -3.033e-01  3.296e-01  -0.920  0.35741    \n",
       "cendiv8.mountain                      2.944e-01  3.597e-01   0.818  0.41310    \n",
       "cendiv9.pacific                       6.269e-01  3.148e-01   1.991  0.04645 *  \n",
       "gender2.female                       -4.482e-02  1.608e-01  -0.279  0.78051    \n",
       "rahispan1.hispanic                   -1.725e+00  2.546e-01  -6.775 1.31e-11 ***\n",
       "raracem2.black/african american      -1.312e-01  1.808e-01  -0.726  0.46807    \n",
       "raracem3.other                       -8.744e-01  3.592e-01  -2.435  0.01492 *  \n",
       "raedyrs                               1.442e-03  1.380e-02   0.104  0.91683    \n",
       "rarelig2.catholic                     1.327e-01  1.350e-01   0.983  0.32570    \n",
       "rarelig3.jewish                      -1.580e+00  3.250e-01  -4.861 1.18e-06 ***\n",
       "rarelig4.none/no pref                 3.913e-01  2.898e-01   1.350  0.17695    \n",
       "rarelig5.other                        2.918e-01  5.781e-01   0.505  0.61381    \n",
       "ravetrn1.yes                          4.295e-01  1.664e-01   2.581  0.00987 ** \n",
       "agey_m                                7.092e-01  1.129e-02  62.795  < 2e-16 ***\n",
       "shlt2.very good                      -7.719e-02  2.095e-01  -0.368  0.71254    \n",
       "shlt3.good                            1.499e-01  2.233e-01   0.671  0.50199    \n",
       "shlt4.fair                            2.307e-01  2.599e-01   0.888  0.37482    \n",
       "shlt5.poor                            8.570e-01  3.535e-01   2.424  0.01536 *  \n",
       "shltc-2                              -6.988e-01  3.475e-01  -2.011  0.04437 *  \n",
       "shltc-3                               8.953e-01  8.614e-01   1.039  0.29862    \n",
       "shltc-4                               3.876e+00  2.415e+00   1.605  0.10852    \n",
       "shltc.m                               5.078e-01  3.800e+00   0.134  0.89371    \n",
       "shltc.p                              -1.679e+00  4.301e-01  -3.904 9.53e-05 ***\n",
       "shltc0                               -1.213e-01  1.510e-01  -0.803  0.42176    \n",
       "shltc1                               -1.859e-01  1.862e-01  -0.998  0.31812    \n",
       "shltc2                               -3.003e-01  3.062e-01  -0.981  0.32668    \n",
       "shltc3                               -5.201e-01  6.875e-01  -0.756  0.44937    \n",
       "shltc4                                2.932e+00  1.920e+00   1.527  0.12683    \n",
       "depres1.yes                          -3.063e-01  1.772e-01  -1.729  0.08387 .  \n",
       "effort1.yes                           2.555e-01  1.465e-01   1.744  0.08122 .  \n",
       "sleepr1.yes                          -2.402e-01  1.263e-01  -1.902  0.05724 .  \n",
       "bmi                                  -2.161e-02  1.108e-02  -1.950  0.05126 .  \n",
       "smokev1.yes                           8.984e-04  1.191e-01   0.008  0.99398    \n",
       "smoken1.yes                           1.169e+00  1.948e-01   6.005 1.98e-09 ***\n",
       "drinkn                               -6.761e-02  5.070e-02  -1.334  0.18237    \n",
       "hibp1.yes                             1.647e-01  1.558e-01   1.057  0.29031    \n",
       "hibp5.disp prev record (dk if cond)   9.431e-01  9.355e-01   1.008  0.31339    \n",
       "diab1.yes                             3.458e-01  1.757e-01   1.968  0.04906 *  \n",
       "cancr1.yes                            1.926e-01  1.735e-01   1.110  0.26700    \n",
       "lung1.yes                             2.977e-01  1.987e-01   1.499  0.13399    \n",
       "lung4.disp prev record and no cond   -7.237e-01  6.954e-01  -1.041  0.29805    \n",
       "lung5.disp prev record (dk if cond)   6.933e-01  1.445e+00   0.480  0.63145    \n",
       "heart1.yes                           -4.483e-01  1.597e-01  -2.808  0.00499 ** \n",
       "heart4.disp prev record and no cond  -2.466e-01  5.946e-01  -0.415  0.67838    \n",
       "heart5.disp prev record (dk if cond) -1.039e+00  1.398e+00  -0.743  0.45763    \n",
       "heart6.preld prob:prev had/no new     5.093e-01  1.067e+00   0.477  0.63310    \n",
       "strok1.yes                           -4.272e-02  2.298e-01  -0.186  0.85254    \n",
       "strok2.tia/possible stroke            5.259e-02  6.950e-01   0.076  0.93968    \n",
       "strok4.disp prev record and no cond   1.136e+00  1.629e+00   0.698  0.48538    \n",
       "strok5.disp prev record (dk if cond) -1.584e+00  2.203e+00  -0.719  0.47207    \n",
       "psych1.yes                           -5.722e-02  1.842e-01  -0.311  0.75607    \n",
       "psych4.disp prev record and no cond   2.754e-01  5.531e-01   0.498  0.61861    \n",
       "psych5.disp prev record (dk if cond)  9.593e-01  1.013e+00   0.947  0.34366    \n",
       "arthr1.yes                           -6.674e-01  1.573e-01  -4.242 2.24e-05 ***\n",
       "arthr4.disp prev record and no cond  -6.900e-02  4.754e-01  -0.145  0.88461    \n",
       "conde                                 3.301e-01  1.089e-01   3.031  0.00245 ** \n",
       "cogtot                               -3.256e-02  1.293e-02  -2.518  0.01181 *  \n",
       "slfmem2.very good                     3.954e-01  2.941e-01   1.345  0.17872    \n",
       "slfmem3.good                          3.250e-01  2.848e-01   1.141  0.25377    \n",
       "slfmem4.fair                          4.814e-01  2.972e-01   1.620  0.10533    \n",
       "slfmem5.poor                          6.896e-01  3.749e-01   1.839  0.06588 .  \n",
       "pstmem2.same                         -6.418e-01  4.020e-01  -1.597  0.11041    \n",
       "pstmem3.worse                        -6.570e-01  4.154e-01  -1.582  0.11376    \n",
       "spcfac.m=oth missing                 -4.935e+00  3.305e+00  -1.493  0.13539    \n",
       "spcfac.n=in nhm                       3.928e+00  3.644e+00   1.078  0.28109    \n",
       "spcfac0.no                           -1.399e+00  1.907e+00  -0.734  0.46317    \n",
       "spcfac1.yes                          -1.353e+00  1.913e+00  -0.707  0.47938    \n",
       "covs0.no                             -1.417e+00  5.183e-01  -2.734  0.00626 ** \n",
       "covs1.yes                            -1.642e+00  5.357e-01  -3.066  0.00218 ** \n",
       "hiltc0.no                            -1.929e-01  4.610e-01  -0.418  0.67565    \n",
       "hiltc1.yes                           -1.129e-02  4.825e-01  -0.023  0.98132    \n",
       "lbrf2.works pt                        6.568e-01  3.870e-01   1.697  0.08975 .  \n",
       "lbrf3.unemployed                      3.433e-01  6.299e-01   0.545  0.58578    \n",
       "lbrf4.partly retired                  5.221e-01  2.537e-01   2.058  0.03957 *  \n",
       "lbrf5.retired                         6.924e-01  2.490e-01   2.781  0.00544 ** \n",
       "lbrf6.disabled                        7.300e-01  6.412e-01   1.138  0.25499    \n",
       "lbrf7.not in lbrf                    -2.410e-02  3.146e-01  -0.077  0.93894    \n",
       "logiearn                             -2.852e-02  2.039e-02  -1.399  0.16187    \n",
       "logisret                              5.882e-03  2.334e-02   0.252  0.80106    \n",
       "loghspti                              7.356e-01  1.729e-01   4.255 2.11e-05 ***\n",
       "loghatotb                             1.190e-01  2.346e-02   5.074 3.97e-07 ***\n",
       "id                                    2.773e-05  2.325e-06  11.927  < 2e-16 ***\n",
       "nt                                           NA         NA      NA       NA    \n",
       "n2                                           NA         NA      NA       NA    \n",
       "---\n",
       "Signif. codes:  0 '***' 0.001 '**' 0.01 '*' 0.05 '.' 0.1 ' ' 1\n",
       "\n",
       "Residual standard error: 5.354 on 10398 degrees of freedom\n",
       "Multiple R-squared:  0.6709,\tAdjusted R-squared:  0.6676 \n",
       "F-statistic: 201.9 on 105 and 10398 DF,  p-value: < 2.2e-16\n"
      ]
     },
     "metadata": {},
     "output_type": "display_data"
    }
   ],
   "source": [
    "summary(ols)"
   ]
  }
 ],
 "metadata": {
  "kernelspec": {
   "display_name": "R",
   "language": "R",
   "name": "ir"
  },
  "language_info": {
   "codemirror_mode": "r",
   "file_extension": ".r",
   "mimetype": "text/x-r-source",
   "name": "R",
   "pygments_lexer": "r",
   "version": "3.6.1"
  }
 },
 "nbformat": 4,
 "nbformat_minor": 5
}
